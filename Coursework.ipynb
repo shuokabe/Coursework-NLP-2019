{
 "cells": [
  {
   "cell_type": "markdown",
   "metadata": {
    "colab_type": "text",
    "id": "16BFlLJRAlt4"
   },
   "source": [
    "# Coursework OffensEval 2019\n",
    "Shu Okabe"
   ]
  },
  {
   "cell_type": "code",
   "execution_count": 0,
   "metadata": {
    "colab": {},
    "colab_type": "code",
    "id": "7Nqg9uLSvcLO"
   },
   "outputs": [],
   "source": [
    "# Import packages\n",
    "import pandas as pd\n",
    "import numpy as np\n",
    "import matplotlib.pyplot as plt\n",
    "\n",
    "import time\n",
    "import io\n",
    "import string\n",
    "import re\n",
    "\n",
    "# NLTK\n",
    "import nltk\n",
    "nltk.download('stopwords')\n",
    "nltk.download('wordnet')\n",
    "from nltk.stem import WordNetLemmatizer\n",
    "from nltk.stem.porter import PorterStemmer\n",
    "\n",
    "# Scikit-learn\n",
    "from sklearn.model_selection import train_test_split\n",
    "from sklearn.metrics import accuracy_score, confusion_matrix\n",
    "\n",
    "%matplotlib inline\n",
    "\n",
    "# PyTorch\n",
    "import torch\n",
    "import torch.nn as nn\n",
    "import torch.nn.functional as F\n",
    "import torch.optim as optim\n",
    "from torch.autograd import Variable\n",
    "from torch.utils.data import TensorDataset, DataLoader\n",
    "\n",
    "# Set random seeds for reproducible results\n",
    "np.random.seed(24)\n",
    "torch.manual_seed(24)"
   ]
  },
  {
   "cell_type": "code",
   "execution_count": 2,
   "metadata": {
    "colab": {
     "base_uri": "https://localhost:8080/",
     "height": 71,
     "resources": {
      "http://localhost:8080/nbextensions/google.colab/files.js": {
       "data": "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",
       "headers": [
        [
         "content-type",
         "application/javascript"
        ]
       ],
       "ok": true,
       "status": 200,
       "status_text": ""
      }
     }
    },
    "colab_type": "code",
    "id": "uI5f0UEgvtYq",
    "outputId": "297a9b11-bba7-40d4-ef75-94400933cc17"
   },
   "outputs": [
    {
     "data": {
      "text/html": [
       "\n",
       "     <input type=\"file\" id=\"files-f0470905-bd3f-4ef6-9386-79178d482da6\" name=\"files[]\" multiple disabled />\n",
       "     <output id=\"result-f0470905-bd3f-4ef6-9386-79178d482da6\">\n",
       "      Upload widget is only available when the cell has been executed in the\n",
       "      current browser session. Please rerun this cell to enable.\n",
       "      </output>\n",
       "      <script src=\"/nbextensions/google.colab/files.js\"></script> "
      ],
      "text/plain": [
       "<IPython.core.display.HTML object>"
      ]
     },
     "metadata": {
      "tags": []
     },
     "output_type": "display_data"
    },
    {
     "name": "stdout",
     "output_type": "stream",
     "text": [
      "Saving offenseval-training-v1.tsv to offenseval-training-v1 (2).tsv\n"
     ]
    }
   ],
   "source": [
    "# Load the data from the computer\n",
    "from google.colab import files\n",
    "uploaded = files.upload()\n",
    "\n",
    "# Remove a file from colab\n",
    "#!rm offenseval-training-v1.tsv"
   ]
  },
  {
   "cell_type": "code",
   "execution_count": 3,
   "metadata": {
    "colab": {
     "base_uri": "https://localhost:8080/",
     "height": 221
    },
    "colab_type": "code",
    "id": "QCb0RCWhwLVp",
    "outputId": "93c1c9b9-62e8-420b-8881-40539407098c"
   },
   "outputs": [
    {
     "name": "stdout",
     "output_type": "stream",
     "text": [
      "(13240, 5)\n"
     ]
    },
    {
     "data": {
      "text/html": [
       "<div>\n",
       "<style scoped>\n",
       "    .dataframe tbody tr th:only-of-type {\n",
       "        vertical-align: middle;\n",
       "    }\n",
       "\n",
       "    .dataframe tbody tr th {\n",
       "        vertical-align: top;\n",
       "    }\n",
       "\n",
       "    .dataframe thead th {\n",
       "        text-align: right;\n",
       "    }\n",
       "</style>\n",
       "<table border=\"1\" class=\"dataframe\">\n",
       "  <thead>\n",
       "    <tr style=\"text-align: right;\">\n",
       "      <th></th>\n",
       "      <th>id</th>\n",
       "      <th>tweet</th>\n",
       "      <th>subtask_a</th>\n",
       "      <th>subtask_b</th>\n",
       "      <th>subtask_c</th>\n",
       "    </tr>\n",
       "  </thead>\n",
       "  <tbody>\n",
       "    <tr>\n",
       "      <th>0</th>\n",
       "      <td>86426</td>\n",
       "      <td>@USER She should ask a few native Americans wh...</td>\n",
       "      <td>OFF</td>\n",
       "      <td>UNT</td>\n",
       "      <td>NaN</td>\n",
       "    </tr>\n",
       "    <tr>\n",
       "      <th>1</th>\n",
       "      <td>90194</td>\n",
       "      <td>@USER @USER Go home you’re drunk!!! @USER #MAG...</td>\n",
       "      <td>OFF</td>\n",
       "      <td>TIN</td>\n",
       "      <td>IND</td>\n",
       "    </tr>\n",
       "    <tr>\n",
       "      <th>2</th>\n",
       "      <td>16820</td>\n",
       "      <td>Amazon is investigating Chinese employees who ...</td>\n",
       "      <td>NOT</td>\n",
       "      <td>NaN</td>\n",
       "      <td>NaN</td>\n",
       "    </tr>\n",
       "    <tr>\n",
       "      <th>3</th>\n",
       "      <td>62688</td>\n",
       "      <td>@USER Someone should'veTaken\" this piece of sh...</td>\n",
       "      <td>OFF</td>\n",
       "      <td>UNT</td>\n",
       "      <td>NaN</td>\n",
       "    </tr>\n",
       "    <tr>\n",
       "      <th>4</th>\n",
       "      <td>43605</td>\n",
       "      <td>@USER @USER Obama wanted liberals &amp;amp; illega...</td>\n",
       "      <td>NOT</td>\n",
       "      <td>NaN</td>\n",
       "      <td>NaN</td>\n",
       "    </tr>\n",
       "  </tbody>\n",
       "</table>\n",
       "</div>"
      ],
      "text/plain": [
       "      id                                              tweet subtask_a  \\\n",
       "0  86426  @USER She should ask a few native Americans wh...       OFF   \n",
       "1  90194  @USER @USER Go home you’re drunk!!! @USER #MAG...       OFF   \n",
       "2  16820  Amazon is investigating Chinese employees who ...       NOT   \n",
       "3  62688  @USER Someone should'veTaken\" this piece of sh...       OFF   \n",
       "4  43605  @USER @USER Obama wanted liberals &amp; illega...       NOT   \n",
       "\n",
       "  subtask_b subtask_c  \n",
       "0       UNT       NaN  \n",
       "1       TIN       IND  \n",
       "2       NaN       NaN  \n",
       "3       UNT       NaN  \n",
       "4       NaN       NaN  "
      ]
     },
     "execution_count": 3,
     "metadata": {
      "tags": []
     },
     "output_type": "execute_result"
    }
   ],
   "source": [
    "# Read the data\n",
    "df = pd.read_csv(io.StringIO(uploaded[\"offenseval-training-v1.tsv\"].decode('utf-8')),  sep = \"\\t\")\n",
    "print(df.shape)\n",
    "df.head()"
   ]
  },
  {
   "cell_type": "code",
   "execution_count": 0,
   "metadata": {
    "colab": {},
    "colab_type": "code",
    "id": "Tfk6p9pLvcLU",
    "scrolled": true
   },
   "outputs": [],
   "source": [
    "# Load the data on Jupyter Notebook\n",
    "#path = './Downloads/start-kit/training-v1/'\n",
    "\n",
    "#path = './training-v1/'\n",
    "#df = pd.read_csv(path + \"offenseval-training-v1.tsv\", sep = \"\\t\")\n",
    "#print(df.shape)\n",
    "#df.head()"
   ]
  },
  {
   "cell_type": "markdown",
   "metadata": {
    "colab_type": "text",
    "id": "btTYow28CarF"
   },
   "source": [
    "# Descriptive statistics"
   ]
  },
  {
   "cell_type": "code",
   "execution_count": 5,
   "metadata": {
    "colab": {
     "base_uri": "https://localhost:8080/",
     "height": 173
    },
    "colab_type": "code",
    "id": "nLoqFvf7vcLW",
    "outputId": "da6a35cd-9111-4178-cc7f-581ef79189a0"
   },
   "outputs": [
    {
     "data": {
      "text/html": [
       "<div>\n",
       "<style scoped>\n",
       "    .dataframe tbody tr th:only-of-type {\n",
       "        vertical-align: middle;\n",
       "    }\n",
       "\n",
       "    .dataframe tbody tr th {\n",
       "        vertical-align: top;\n",
       "    }\n",
       "\n",
       "    .dataframe thead th {\n",
       "        text-align: right;\n",
       "    }\n",
       "</style>\n",
       "<table border=\"1\" class=\"dataframe\">\n",
       "  <thead>\n",
       "    <tr style=\"text-align: right;\">\n",
       "      <th></th>\n",
       "      <th>tweet</th>\n",
       "      <th>subtask_a</th>\n",
       "      <th>subtask_b</th>\n",
       "      <th>subtask_c</th>\n",
       "    </tr>\n",
       "  </thead>\n",
       "  <tbody>\n",
       "    <tr>\n",
       "      <th>count</th>\n",
       "      <td>13240</td>\n",
       "      <td>13240</td>\n",
       "      <td>4400</td>\n",
       "      <td>3876</td>\n",
       "    </tr>\n",
       "    <tr>\n",
       "      <th>unique</th>\n",
       "      <td>13207</td>\n",
       "      <td>2</td>\n",
       "      <td>2</td>\n",
       "      <td>3</td>\n",
       "    </tr>\n",
       "    <tr>\n",
       "      <th>top</th>\n",
       "      <td>@USER Looks Like The Jokes On Liberals Again. ...</td>\n",
       "      <td>NOT</td>\n",
       "      <td>TIN</td>\n",
       "      <td>IND</td>\n",
       "    </tr>\n",
       "    <tr>\n",
       "      <th>freq</th>\n",
       "      <td>6</td>\n",
       "      <td>8840</td>\n",
       "      <td>3876</td>\n",
       "      <td>2407</td>\n",
       "    </tr>\n",
       "  </tbody>\n",
       "</table>\n",
       "</div>"
      ],
      "text/plain": [
       "                                                    tweet subtask_a subtask_b  \\\n",
       "count                                               13240     13240      4400   \n",
       "unique                                              13207         2         2   \n",
       "top     @USER Looks Like The Jokes On Liberals Again. ...       NOT       TIN   \n",
       "freq                                                    6      8840      3876   \n",
       "\n",
       "       subtask_c  \n",
       "count       3876  \n",
       "unique         3  \n",
       "top          IND  \n",
       "freq        2407  "
      ]
     },
     "execution_count": 5,
     "metadata": {
      "tags": []
     },
     "output_type": "execute_result"
    }
   ],
   "source": [
    "# General information on the distribution of the classes in the dataset.\n",
    "df.describe(include = ['O'])"
   ]
  },
  {
   "cell_type": "code",
   "execution_count": 6,
   "metadata": {
    "colab": {
     "base_uri": "https://localhost:8080/",
     "height": 293
    },
    "colab_type": "code",
    "id": "vUZY5eaJvcLZ",
    "outputId": "07c1cf7e-1c85-4902-a05d-2790b0f52711"
   },
   "outputs": [
    {
     "data": {
      "text/plain": [
       "<matplotlib.axes._subplots.AxesSubplot at 0x7f3365fb09b0>"
      ]
     },
     "execution_count": 6,
     "metadata": {
      "tags": []
     },
     "output_type": "execute_result"
    },
    {
     "data": {
      "image/png": "[encoded data removed]",
      "text/plain": [
       "<Figure size 432x288 with 1 Axes>"
      ]
     },
     "metadata": {
      "tags": []
     },
     "output_type": "display_data"
    }
   ],
   "source": [
    "# Distribution of the labels for sub-task A\n",
    "df['subtask_a'].value_counts().plot(kind = 'bar')"
   ]
  },
  {
   "cell_type": "code",
   "execution_count": 7,
   "metadata": {
    "colab": {
     "base_uri": "https://localhost:8080/",
     "height": 293
    },
    "colab_type": "code",
    "id": "IUxd2Us5vcLb",
    "outputId": "4595a731-c644-46da-eec6-3ee9d2fc903c"
   },
   "outputs": [
    {
     "data": {
      "text/plain": [
       "<matplotlib.axes._subplots.AxesSubplot at 0x7f331fa92898>"
      ]
     },
     "execution_count": 7,
     "metadata": {
      "tags": []
     },
     "output_type": "execute_result"
    },
    {
     "data": {
      "image/png": "[encoded data removed]",
      "text/plain": [
       "<Figure size 432x288 with 1 Axes>"
      ]
     },
     "metadata": {
      "tags": []
     },
     "output_type": "display_data"
    }
   ],
   "source": [
    "# Distribution of the labels for sub-task B\n",
    "df['subtask_b'].value_counts().plot(kind = 'bar')"
   ]
  },
  {
   "cell_type": "code",
   "execution_count": 8,
   "metadata": {
    "colab": {
     "base_uri": "https://localhost:8080/",
     "height": 296
    },
    "colab_type": "code",
    "id": "5lsIBBbGvcLe",
    "outputId": "1aeffaba-678a-460b-a12e-de1aec4e6dc0"
   },
   "outputs": [
    {
     "data": {
      "text/plain": [
       "<matplotlib.axes._subplots.AxesSubplot at 0x7f331d9f2b70>"
      ]
     },
     "execution_count": 8,
     "metadata": {
      "tags": []
     },
     "output_type": "execute_result"
    },
    {
     "data": {
      "image/png": "[encoded data removed]",
      "text/plain": [
       "<Figure size 432x288 with 1 Axes>"
      ]
     },
     "metadata": {
      "tags": []
     },
     "output_type": "display_data"
    }
   ],
   "source": [
    "# Distribution of the labels for sub-task C\n",
    "df['subtask_c'].value_counts().plot(kind = 'bar')"
   ]
  },
  {
   "cell_type": "markdown",
   "metadata": {
    "colab_type": "text",
    "id": "mfvStX1WC7q0"
   },
   "source": [
    "We can thus see that the labels are rather inequally distributed, especially for the sub-task B where thee class 'TIN' is much more represented in the training data. Hence, for this classification task the F1 score is the most important metrics."
   ]
  },
  {
   "cell_type": "markdown",
   "metadata": {
    "colab_type": "text",
    "id": "4U3fuOndvcLh"
   },
   "source": [
    "# Preprocessing of the tweets"
   ]
  },
  {
   "cell_type": "markdown",
   "metadata": {
    "colab_type": "text",
    "id": "cHl9z_ZZDmpx"
   },
   "source": [
    "## Remove punctuation and transform to lowercase"
   ]
  },
  {
   "cell_type": "code",
   "execution_count": 9,
   "metadata": {
    "colab": {
     "base_uri": "https://localhost:8080/",
     "height": 478
    },
    "colab_type": "code",
    "id": "aDDnfIrKvcLk",
    "outputId": "35e5f77d-dace-409e-b926-38b2be0e1205"
   },
   "outputs": [
    {
     "data": {
      "text/html": [
       "<div>\n",
       "<style scoped>\n",
       "    .dataframe tbody tr th:only-of-type {\n",
       "        vertical-align: middle;\n",
       "    }\n",
       "\n",
       "    .dataframe tbody tr th {\n",
       "        vertical-align: top;\n",
       "    }\n",
       "\n",
       "    .dataframe thead th {\n",
       "        text-align: right;\n",
       "    }\n",
       "</style>\n",
       "<table border=\"1\" class=\"dataframe\">\n",
       "  <thead>\n",
       "    <tr style=\"text-align: right;\">\n",
       "      <th></th>\n",
       "      <th>id</th>\n",
       "      <th>tweet</th>\n",
       "      <th>subtask_a</th>\n",
       "      <th>subtask_b</th>\n",
       "      <th>subtask_c</th>\n",
       "      <th>preprocessed_tweet</th>\n",
       "    </tr>\n",
       "  </thead>\n",
       "  <tbody>\n",
       "    <tr>\n",
       "      <th>0</th>\n",
       "      <td>86426</td>\n",
       "      <td>@USER She should ask a few native Americans wh...</td>\n",
       "      <td>OFF</td>\n",
       "      <td>UNT</td>\n",
       "      <td>NaN</td>\n",
       "      <td>user she should ask a few native americans wha...</td>\n",
       "    </tr>\n",
       "    <tr>\n",
       "      <th>1</th>\n",
       "      <td>90194</td>\n",
       "      <td>@USER @USER Go home you’re drunk!!! @USER #MAG...</td>\n",
       "      <td>OFF</td>\n",
       "      <td>TIN</td>\n",
       "      <td>IND</td>\n",
       "      <td>user user go home you re drunk user maga trump...</td>\n",
       "    </tr>\n",
       "    <tr>\n",
       "      <th>2</th>\n",
       "      <td>16820</td>\n",
       "      <td>Amazon is investigating Chinese employees who ...</td>\n",
       "      <td>NOT</td>\n",
       "      <td>NaN</td>\n",
       "      <td>NaN</td>\n",
       "      <td>amazon is investigating chinese employees who ...</td>\n",
       "    </tr>\n",
       "    <tr>\n",
       "      <th>3</th>\n",
       "      <td>62688</td>\n",
       "      <td>@USER Someone should'veTaken\" this piece of sh...</td>\n",
       "      <td>OFF</td>\n",
       "      <td>UNT</td>\n",
       "      <td>NaN</td>\n",
       "      <td>user someone shouldvetaken this piece of shit ...</td>\n",
       "    </tr>\n",
       "    <tr>\n",
       "      <th>4</th>\n",
       "      <td>43605</td>\n",
       "      <td>@USER @USER Obama wanted liberals &amp;amp; illega...</td>\n",
       "      <td>NOT</td>\n",
       "      <td>NaN</td>\n",
       "      <td>NaN</td>\n",
       "      <td>user user obama wanted liberals  illegals to m...</td>\n",
       "    </tr>\n",
       "    <tr>\n",
       "      <th>5</th>\n",
       "      <td>97670</td>\n",
       "      <td>@USER Liberals are all Kookoo !!!</td>\n",
       "      <td>OFF</td>\n",
       "      <td>TIN</td>\n",
       "      <td>OTH</td>\n",
       "      <td>user liberals are all kookoo</td>\n",
       "    </tr>\n",
       "    <tr>\n",
       "      <th>6</th>\n",
       "      <td>77444</td>\n",
       "      <td>@USER @USER Oh noes! Tough shit.</td>\n",
       "      <td>OFF</td>\n",
       "      <td>UNT</td>\n",
       "      <td>NaN</td>\n",
       "      <td>user user oh noes tough shit</td>\n",
       "    </tr>\n",
       "    <tr>\n",
       "      <th>7</th>\n",
       "      <td>52415</td>\n",
       "      <td>@USER was literally just talking about this lo...</td>\n",
       "      <td>OFF</td>\n",
       "      <td>TIN</td>\n",
       "      <td>GRP</td>\n",
       "      <td>user was literally just talking about this lol...</td>\n",
       "    </tr>\n",
       "    <tr>\n",
       "      <th>8</th>\n",
       "      <td>45157</td>\n",
       "      <td>@USER Buy more icecream!!!</td>\n",
       "      <td>NOT</td>\n",
       "      <td>NaN</td>\n",
       "      <td>NaN</td>\n",
       "      <td>user buy more icecream</td>\n",
       "    </tr>\n",
       "    <tr>\n",
       "      <th>9</th>\n",
       "      <td>13384</td>\n",
       "      <td>@USER Canada doesn’t need another CUCK! We alr...</td>\n",
       "      <td>OFF</td>\n",
       "      <td>TIN</td>\n",
       "      <td>IND</td>\n",
       "      <td>user canada doesn t need another cuck we alrea...</td>\n",
       "    </tr>\n",
       "  </tbody>\n",
       "</table>\n",
       "</div>"
      ],
      "text/plain": [
       "      id                                              tweet subtask_a  \\\n",
       "0  86426  @USER She should ask a few native Americans wh...       OFF   \n",
       "1  90194  @USER @USER Go home you’re drunk!!! @USER #MAG...       OFF   \n",
       "2  16820  Amazon is investigating Chinese employees who ...       NOT   \n",
       "3  62688  @USER Someone should'veTaken\" this piece of sh...       OFF   \n",
       "4  43605  @USER @USER Obama wanted liberals &amp; illega...       NOT   \n",
       "5  97670                  @USER Liberals are all Kookoo !!!       OFF   \n",
       "6  77444                   @USER @USER Oh noes! Tough shit.       OFF   \n",
       "7  52415  @USER was literally just talking about this lo...       OFF   \n",
       "8  45157                         @USER Buy more icecream!!!       NOT   \n",
       "9  13384  @USER Canada doesn’t need another CUCK! We alr...       OFF   \n",
       "\n",
       "  subtask_b subtask_c                                 preprocessed_tweet  \n",
       "0       UNT       NaN  user she should ask a few native americans wha...  \n",
       "1       TIN       IND  user user go home you re drunk user maga trump...  \n",
       "2       NaN       NaN  amazon is investigating chinese employees who ...  \n",
       "3       UNT       NaN  user someone shouldvetaken this piece of shit ...  \n",
       "4       NaN       NaN  user user obama wanted liberals  illegals to m...  \n",
       "5       TIN       OTH                      user liberals are all kookoo   \n",
       "6       UNT       NaN                       user user oh noes tough shit  \n",
       "7       TIN       GRP  user was literally just talking about this lol...  \n",
       "8       NaN       NaN                             user buy more icecream  \n",
       "9       TIN       IND  user canada doesn t need another cuck we alrea...  "
      ]
     },
     "execution_count": 9,
     "metadata": {
      "tags": []
     },
     "output_type": "execute_result"
    }
   ],
   "source": [
    "df_prep = df.copy()\n",
    "#df_prep['preprocessed_tweet'] = df_prep['tweet'].str.replace(' URL ', ' ')\n",
    "df_prep['preprocessed_tweet'] = df_prep['tweet'].str.lower() # Lowercase\n",
    "df_prep['preprocessed_tweet'] = df_prep['preprocessed_tweet'].str.replace('&amp;', '&')\n",
    "df_prep['preprocessed_tweet'] = df_prep['preprocessed_tweet'].str.replace('[{}]'.format(string.punctuation), '')\n",
    "df_prep['preprocessed_tweet'] = df_prep['preprocessed_tweet'].str.replace('[“”’—]', ' ')\n",
    "df_prep['preprocessed_tweet'] = df_prep['preprocessed_tweet'].str.replace('\\d+', '') # Remove digits\n",
    "\n",
    "def replace_words(dataframe, label):\n",
    "    dataframe[label] = dataframe[label].str.replace('𝙿𝚎𝚝𝚊𝚕𝚜', 'Petals')\n",
    "    dataframe[label] = dataframe[label].str.replace('𝙼𝚌𝙿𝙾𝚄𝚃𝚂𝙵𝚊𝚌𝚎', 'McPOUTSFace')\n",
    "    dataframe[label] = dataframe[label].str.replace('ᶦˢ', 'is')\n",
    "    dataframe[label] = dataframe[label].str.replace('ᴵⁿᵈᵉˣ', 'index')\n",
    "    dataframe[label] = dataframe[label].str.replace('ᶠᶦʳˢᵗ', 'first')\n",
    "    dataframe[label] = dataframe[label].str.replace('ᵗʰᵉ', 'the')\n",
    "    dataframe[label] = dataframe[label].str.replace('ᴳᵉᵗᵗᶦⁿᵍ', 'getting')\n",
    "    return dataframe\n",
    "  \n",
    "df_prep = replace_words(df_prep, 'preprocessed_tweet')\n",
    "\n",
    "df_prep.head(10)"
   ]
  },
  {
   "cell_type": "markdown",
   "metadata": {
    "colab_type": "text",
    "id": "fW1nSxCTD6SH"
   },
   "source": [
    "## Tokenisation"
   ]
  },
  {
   "cell_type": "code",
   "execution_count": 10,
   "metadata": {
    "colab": {
     "base_uri": "https://localhost:8080/",
     "height": 340
    },
    "colab_type": "code",
    "id": "_epRnQ5LvcLm",
    "outputId": "6ddf44d6-3015-413d-baed-0f85f21dc27f"
   },
   "outputs": [
    {
     "data": {
      "text/html": [
       "<div>\n",
       "<style scoped>\n",
       "    .dataframe tbody tr th:only-of-type {\n",
       "        vertical-align: middle;\n",
       "    }\n",
       "\n",
       "    .dataframe tbody tr th {\n",
       "        vertical-align: top;\n",
       "    }\n",
       "\n",
       "    .dataframe thead th {\n",
       "        text-align: right;\n",
       "    }\n",
       "</style>\n",
       "<table border=\"1\" class=\"dataframe\">\n",
       "  <thead>\n",
       "    <tr style=\"text-align: right;\">\n",
       "      <th></th>\n",
       "      <th>id</th>\n",
       "      <th>tweet</th>\n",
       "      <th>subtask_a</th>\n",
       "      <th>subtask_b</th>\n",
       "      <th>subtask_c</th>\n",
       "      <th>preprocessed_tweet</th>\n",
       "      <th>token_tweet</th>\n",
       "    </tr>\n",
       "  </thead>\n",
       "  <tbody>\n",
       "    <tr>\n",
       "      <th>0</th>\n",
       "      <td>86426</td>\n",
       "      <td>@USER She should ask a few native Americans wh...</td>\n",
       "      <td>OFF</td>\n",
       "      <td>UNT</td>\n",
       "      <td>NaN</td>\n",
       "      <td>user she should ask a few native americans wha...</td>\n",
       "      <td>[user, she, should, ask, a, few, native, ameri...</td>\n",
       "    </tr>\n",
       "    <tr>\n",
       "      <th>1</th>\n",
       "      <td>90194</td>\n",
       "      <td>@USER @USER Go home you’re drunk!!! @USER #MAG...</td>\n",
       "      <td>OFF</td>\n",
       "      <td>TIN</td>\n",
       "      <td>IND</td>\n",
       "      <td>user user go home you re drunk user maga trump...</td>\n",
       "      <td>[user, user, go, home, you, re, drunk, user, m...</td>\n",
       "    </tr>\n",
       "    <tr>\n",
       "      <th>2</th>\n",
       "      <td>16820</td>\n",
       "      <td>Amazon is investigating Chinese employees who ...</td>\n",
       "      <td>NOT</td>\n",
       "      <td>NaN</td>\n",
       "      <td>NaN</td>\n",
       "      <td>amazon is investigating chinese employees who ...</td>\n",
       "      <td>[amazon, is, investigating, chinese, employees...</td>\n",
       "    </tr>\n",
       "    <tr>\n",
       "      <th>3</th>\n",
       "      <td>62688</td>\n",
       "      <td>@USER Someone should'veTaken\" this piece of sh...</td>\n",
       "      <td>OFF</td>\n",
       "      <td>UNT</td>\n",
       "      <td>NaN</td>\n",
       "      <td>user someone shouldvetaken this piece of shit ...</td>\n",
       "      <td>[user, someone, shouldvetaken, this, piece, of...</td>\n",
       "    </tr>\n",
       "    <tr>\n",
       "      <th>4</th>\n",
       "      <td>43605</td>\n",
       "      <td>@USER @USER Obama wanted liberals &amp;amp; illega...</td>\n",
       "      <td>NOT</td>\n",
       "      <td>NaN</td>\n",
       "      <td>NaN</td>\n",
       "      <td>user user obama wanted liberals  illegals to m...</td>\n",
       "      <td>[user, user, obama, wanted, liberals, illegals...</td>\n",
       "    </tr>\n",
       "  </tbody>\n",
       "</table>\n",
       "</div>"
      ],
      "text/plain": [
       "      id                                              tweet subtask_a  \\\n",
       "0  86426  @USER She should ask a few native Americans wh...       OFF   \n",
       "1  90194  @USER @USER Go home you’re drunk!!! @USER #MAG...       OFF   \n",
       "2  16820  Amazon is investigating Chinese employees who ...       NOT   \n",
       "3  62688  @USER Someone should'veTaken\" this piece of sh...       OFF   \n",
       "4  43605  @USER @USER Obama wanted liberals &amp; illega...       NOT   \n",
       "\n",
       "  subtask_b subtask_c                                 preprocessed_tweet  \\\n",
       "0       UNT       NaN  user she should ask a few native americans wha...   \n",
       "1       TIN       IND  user user go home you re drunk user maga trump...   \n",
       "2       NaN       NaN  amazon is investigating chinese employees who ...   \n",
       "3       UNT       NaN  user someone shouldvetaken this piece of shit ...   \n",
       "4       NaN       NaN  user user obama wanted liberals  illegals to m...   \n",
       "\n",
       "                                         token_tweet  \n",
       "0  [user, she, should, ask, a, few, native, ameri...  \n",
       "1  [user, user, go, home, you, re, drunk, user, m...  \n",
       "2  [amazon, is, investigating, chinese, employees...  \n",
       "3  [user, someone, shouldvetaken, this, piece, of...  \n",
       "4  [user, user, obama, wanted, liberals, illegals...  "
      ]
     },
     "execution_count": 10,
     "metadata": {
      "tags": []
     },
     "output_type": "execute_result"
    }
   ],
   "source": [
    "token_df = df_prep.copy()\n",
    "token_df['token_tweet'] = token_df.preprocessed_tweet.apply(lambda x: x.split())\n",
    "#print(token_df.token_tweet.iloc[1])\n",
    "token_df.head()"
   ]
  },
  {
   "cell_type": "markdown",
   "metadata": {
    "colab_type": "text",
    "id": "w1VTH0p4EH18"
   },
   "source": [
    "## Remove stopwords"
   ]
  },
  {
   "cell_type": "code",
   "execution_count": 11,
   "metadata": {
    "colab": {
     "base_uri": "https://localhost:8080/",
     "height": 408
    },
    "colab_type": "code",
    "id": "I1TQTUlhvcLp",
    "outputId": "738df4fd-381f-49c3-eb19-0db6dd01453f"
   },
   "outputs": [
    {
     "data": {
      "text/html": [
       "<div>\n",
       "<style scoped>\n",
       "    .dataframe tbody tr th:only-of-type {\n",
       "        vertical-align: middle;\n",
       "    }\n",
       "\n",
       "    .dataframe tbody tr th {\n",
       "        vertical-align: top;\n",
       "    }\n",
       "\n",
       "    .dataframe thead th {\n",
       "        text-align: right;\n",
       "    }\n",
       "</style>\n",
       "<table border=\"1\" class=\"dataframe\">\n",
       "  <thead>\n",
       "    <tr style=\"text-align: right;\">\n",
       "      <th></th>\n",
       "      <th>id</th>\n",
       "      <th>tweet</th>\n",
       "      <th>subtask_a</th>\n",
       "      <th>subtask_b</th>\n",
       "      <th>subtask_c</th>\n",
       "      <th>preprocessed_tweet</th>\n",
       "      <th>token_tweet</th>\n",
       "      <th>token_tweet_stop</th>\n",
       "    </tr>\n",
       "  </thead>\n",
       "  <tbody>\n",
       "    <tr>\n",
       "      <th>0</th>\n",
       "      <td>86426</td>\n",
       "      <td>@USER She should ask a few native Americans wh...</td>\n",
       "      <td>OFF</td>\n",
       "      <td>UNT</td>\n",
       "      <td>NaN</td>\n",
       "      <td>user she should ask a few native americans wha...</td>\n",
       "      <td>[user, she, should, ask, a, few, native, ameri...</td>\n",
       "      <td>[user, ask, native, americans, take]</td>\n",
       "    </tr>\n",
       "    <tr>\n",
       "      <th>1</th>\n",
       "      <td>90194</td>\n",
       "      <td>@USER @USER Go home you’re drunk!!! @USER #MAG...</td>\n",
       "      <td>OFF</td>\n",
       "      <td>TIN</td>\n",
       "      <td>IND</td>\n",
       "      <td>user user go home you re drunk user maga trump...</td>\n",
       "      <td>[user, user, go, home, you, re, drunk, user, m...</td>\n",
       "      <td>[user, user, go, home, drunk, user, maga, trum...</td>\n",
       "    </tr>\n",
       "    <tr>\n",
       "      <th>2</th>\n",
       "      <td>16820</td>\n",
       "      <td>Amazon is investigating Chinese employees who ...</td>\n",
       "      <td>NOT</td>\n",
       "      <td>NaN</td>\n",
       "      <td>NaN</td>\n",
       "      <td>amazon is investigating chinese employees who ...</td>\n",
       "      <td>[amazon, is, investigating, chinese, employees...</td>\n",
       "      <td>[amazon, investigating, chinese, employees, se...</td>\n",
       "    </tr>\n",
       "    <tr>\n",
       "      <th>3</th>\n",
       "      <td>62688</td>\n",
       "      <td>@USER Someone should'veTaken\" this piece of sh...</td>\n",
       "      <td>OFF</td>\n",
       "      <td>UNT</td>\n",
       "      <td>NaN</td>\n",
       "      <td>user someone shouldvetaken this piece of shit ...</td>\n",
       "      <td>[user, someone, shouldvetaken, this, piece, of...</td>\n",
       "      <td>[user, someone, shouldvetaken, piece, shit, vo...</td>\n",
       "    </tr>\n",
       "    <tr>\n",
       "      <th>4</th>\n",
       "      <td>43605</td>\n",
       "      <td>@USER @USER Obama wanted liberals &amp;amp; illega...</td>\n",
       "      <td>NOT</td>\n",
       "      <td>NaN</td>\n",
       "      <td>NaN</td>\n",
       "      <td>user user obama wanted liberals  illegals to m...</td>\n",
       "      <td>[user, user, obama, wanted, liberals, illegals...</td>\n",
       "      <td>[user, user, obama, wanted, liberals, illegals...</td>\n",
       "    </tr>\n",
       "  </tbody>\n",
       "</table>\n",
       "</div>"
      ],
      "text/plain": [
       "      id                                              tweet subtask_a  \\\n",
       "0  86426  @USER She should ask a few native Americans wh...       OFF   \n",
       "1  90194  @USER @USER Go home you’re drunk!!! @USER #MAG...       OFF   \n",
       "2  16820  Amazon is investigating Chinese employees who ...       NOT   \n",
       "3  62688  @USER Someone should'veTaken\" this piece of sh...       OFF   \n",
       "4  43605  @USER @USER Obama wanted liberals &amp; illega...       NOT   \n",
       "\n",
       "  subtask_b subtask_c                                 preprocessed_tweet  \\\n",
       "0       UNT       NaN  user she should ask a few native americans wha...   \n",
       "1       TIN       IND  user user go home you re drunk user maga trump...   \n",
       "2       NaN       NaN  amazon is investigating chinese employees who ...   \n",
       "3       UNT       NaN  user someone shouldvetaken this piece of shit ...   \n",
       "4       NaN       NaN  user user obama wanted liberals  illegals to m...   \n",
       "\n",
       "                                         token_tweet  \\\n",
       "0  [user, she, should, ask, a, few, native, ameri...   \n",
       "1  [user, user, go, home, you, re, drunk, user, m...   \n",
       "2  [amazon, is, investigating, chinese, employees...   \n",
       "3  [user, someone, shouldvetaken, this, piece, of...   \n",
       "4  [user, user, obama, wanted, liberals, illegals...   \n",
       "\n",
       "                                    token_tweet_stop  \n",
       "0               [user, ask, native, americans, take]  \n",
       "1  [user, user, go, home, drunk, user, maga, trum...  \n",
       "2  [amazon, investigating, chinese, employees, se...  \n",
       "3  [user, someone, shouldvetaken, piece, shit, vo...  \n",
       "4  [user, user, obama, wanted, liberals, illegals...  "
      ]
     },
     "execution_count": 11,
     "metadata": {
      "tags": []
     },
     "output_type": "execute_result"
    }
   ],
   "source": [
    "stopwords = nltk.corpus.stopwords.words('english')\n",
    "#print(stopwords)\n",
    "\n",
    "mystopwords = stopwords + ['u', 'im', 'also']\n",
    "\n",
    "token_df['token_tweet_stop'] = token_df['token_tweet'].apply(lambda x: [item for item in x if item not in mystopwords])\n",
    "token_df.head()"
   ]
  },
  {
   "cell_type": "code",
   "execution_count": 12,
   "metadata": {
    "colab": {
     "base_uri": "https://localhost:8080/",
     "height": 306
    },
    "colab_type": "code",
    "id": "_FyBBTOvvcLr",
    "outputId": "09a0b573-a558-4e28-99b0-f7f324f8654b"
   },
   "outputs": [
    {
     "name": "stdout",
     "output_type": "stream",
     "text": [
      "(13240, 8) (13240, 5)\n"
     ]
    },
    {
     "name": "stderr",
     "output_type": "stream",
     "text": [
      "/usr/local/lib/python3.6/dist-packages/pandas/core/frame.py:3027: SettingWithCopyWarning: \n",
      "A value is trying to be set on a copy of a slice from a DataFrame\n",
      "\n",
      "See the caveats in the documentation: http://pandas.pydata.org/pandas-docs/stable/indexing.html#indexing-view-versus-copy\n",
      "  return super(DataFrame, self).rename(**kwargs)\n"
     ]
    },
    {
     "data": {
      "text/html": [
       "<div>\n",
       "<style scoped>\n",
       "    .dataframe tbody tr th:only-of-type {\n",
       "        vertical-align: middle;\n",
       "    }\n",
       "\n",
       "    .dataframe tbody tr th {\n",
       "        vertical-align: top;\n",
       "    }\n",
       "\n",
       "    .dataframe thead th {\n",
       "        text-align: right;\n",
       "    }\n",
       "</style>\n",
       "<table border=\"1\" class=\"dataframe\">\n",
       "  <thead>\n",
       "    <tr style=\"text-align: right;\">\n",
       "      <th></th>\n",
       "      <th>id</th>\n",
       "      <th>tweet</th>\n",
       "      <th>subtask_a</th>\n",
       "      <th>subtask_b</th>\n",
       "      <th>subtask_c</th>\n",
       "    </tr>\n",
       "  </thead>\n",
       "  <tbody>\n",
       "    <tr>\n",
       "      <th>0</th>\n",
       "      <td>86426</td>\n",
       "      <td>[user, ask, native, americans, take]</td>\n",
       "      <td>OFF</td>\n",
       "      <td>UNT</td>\n",
       "      <td>NaN</td>\n",
       "    </tr>\n",
       "    <tr>\n",
       "      <th>1</th>\n",
       "      <td>90194</td>\n",
       "      <td>[user, user, go, home, drunk, user, maga, trum...</td>\n",
       "      <td>OFF</td>\n",
       "      <td>TIN</td>\n",
       "      <td>IND</td>\n",
       "    </tr>\n",
       "    <tr>\n",
       "      <th>2</th>\n",
       "      <td>16820</td>\n",
       "      <td>[amazon, investigating, chinese, employees, se...</td>\n",
       "      <td>NOT</td>\n",
       "      <td>NaN</td>\n",
       "      <td>NaN</td>\n",
       "    </tr>\n",
       "    <tr>\n",
       "      <th>3</th>\n",
       "      <td>62688</td>\n",
       "      <td>[user, someone, shouldvetaken, piece, shit, vo...</td>\n",
       "      <td>OFF</td>\n",
       "      <td>UNT</td>\n",
       "      <td>NaN</td>\n",
       "    </tr>\n",
       "    <tr>\n",
       "      <th>4</th>\n",
       "      <td>43605</td>\n",
       "      <td>[user, user, obama, wanted, liberals, illegals...</td>\n",
       "      <td>NOT</td>\n",
       "      <td>NaN</td>\n",
       "      <td>NaN</td>\n",
       "    </tr>\n",
       "  </tbody>\n",
       "</table>\n",
       "</div>"
      ],
      "text/plain": [
       "      id                                              tweet subtask_a  \\\n",
       "0  86426               [user, ask, native, americans, take]       OFF   \n",
       "1  90194  [user, user, go, home, drunk, user, maga, trum...       OFF   \n",
       "2  16820  [amazon, investigating, chinese, employees, se...       NOT   \n",
       "3  62688  [user, someone, shouldvetaken, piece, shit, vo...       OFF   \n",
       "4  43605  [user, user, obama, wanted, liberals, illegals...       NOT   \n",
       "\n",
       "  subtask_b subtask_c  \n",
       "0       UNT       NaN  \n",
       "1       TIN       IND  \n",
       "2       NaN       NaN  \n",
       "3       UNT       NaN  \n",
       "4       NaN       NaN  "
      ]
     },
     "execution_count": 12,
     "metadata": {
      "tags": []
     },
     "output_type": "execute_result"
    }
   ],
   "source": [
    "# Remove some columns\n",
    "sub_token_df = token_df[['id', 'token_tweet_stop', 'subtask_a', 'subtask_b', 'subtask_c']] \n",
    "sub_token_df.rename(columns = {'token_tweet_stop':'tweet'}, inplace = True)\n",
    "\n",
    "print(token_df.shape, sub_token_df.shape)\n",
    "sub_token_df.head()"
   ]
  },
  {
   "cell_type": "markdown",
   "metadata": {
    "colab_type": "text",
    "id": "7-wSrSOPEcj2"
   },
   "source": [
    "## Create vocabulary "
   ]
  },
  {
   "cell_type": "code",
   "execution_count": 13,
   "metadata": {
    "colab": {
     "base_uri": "https://localhost:8080/",
     "height": 71
    },
    "colab_type": "code",
    "id": "mpOhtQ4fvcLx",
    "outputId": "f4565c45-a629-44a2-8f19-6ab32775be1b"
   },
   "outputs": [
    {
     "name": "stdout",
     "output_type": "stream",
     "text": [
      "['ask', 'native', 'americans', 'take', 'go', 'home', 'drunk', 'maga', 'trump', '👊🇺🇸👊', 'url', 'amazon', 'investigating', 'chinese', 'employees', 'selling', 'internal', 'data', 'thirdparty']\n"
     ]
    },
    {
     "data": {
      "text/plain": [
       "21024"
      ]
     },
     "execution_count": 13,
     "metadata": {
      "tags": []
     },
     "output_type": "execute_result"
    }
   ],
   "source": [
    "def vocabulary_list(dataframe, label):\n",
    "    voc = [] # Put all the tokens appearing in the vocabulary in a list\n",
    "    for index, row in dataframe.iterrows():\n",
    "        tweet = row[label]\n",
    "        for token in tweet:\n",
    "            if token not in voc:\n",
    "                voc.append(token)\n",
    "    return voc\n",
    "\n",
    "vocabulary = vocabulary_list(sub_token_df, 'tweet')\n",
    "print(vocabulary[1:20])\n",
    "\n",
    "vocabulary_size = len(vocabulary)\n",
    "vocabulary_size"
   ]
  },
  {
   "cell_type": "markdown",
   "metadata": {
    "colab_type": "text",
    "id": "-SiHKuGzEzmD"
   },
   "source": [
    "## Lemmatisation"
   ]
  },
  {
   "cell_type": "code",
   "execution_count": 14,
   "metadata": {
    "colab": {
     "base_uri": "https://localhost:8080/",
     "height": 374
    },
    "colab_type": "code",
    "id": "SQRzmLD-ypN0",
    "outputId": "33f96f44-1fee-4292-f084-5a12a896542a"
   },
   "outputs": [
    {
     "name": "stderr",
     "output_type": "stream",
     "text": [
      "/usr/local/lib/python3.6/dist-packages/ipykernel_launcher.py:7: SettingWithCopyWarning: \n",
      "A value is trying to be set on a copy of a slice from a DataFrame.\n",
      "Try using .loc[row_indexer,col_indexer] = value instead\n",
      "\n",
      "See the caveats in the documentation: http://pandas.pydata.org/pandas-docs/stable/indexing.html#indexing-view-versus-copy\n",
      "  import sys\n"
     ]
    },
    {
     "data": {
      "text/html": [
       "<div>\n",
       "<style scoped>\n",
       "    .dataframe tbody tr th:only-of-type {\n",
       "        vertical-align: middle;\n",
       "    }\n",
       "\n",
       "    .dataframe tbody tr th {\n",
       "        vertical-align: top;\n",
       "    }\n",
       "\n",
       "    .dataframe thead th {\n",
       "        text-align: right;\n",
       "    }\n",
       "</style>\n",
       "<table border=\"1\" class=\"dataframe\">\n",
       "  <thead>\n",
       "    <tr style=\"text-align: right;\">\n",
       "      <th></th>\n",
       "      <th>id</th>\n",
       "      <th>tweet</th>\n",
       "      <th>subtask_a</th>\n",
       "      <th>subtask_b</th>\n",
       "      <th>subtask_c</th>\n",
       "      <th>tweet_lemma</th>\n",
       "    </tr>\n",
       "  </thead>\n",
       "  <tbody>\n",
       "    <tr>\n",
       "      <th>0</th>\n",
       "      <td>86426</td>\n",
       "      <td>[user, ask, native, americans, take]</td>\n",
       "      <td>OFF</td>\n",
       "      <td>UNT</td>\n",
       "      <td>NaN</td>\n",
       "      <td>[user, ask, native, american, take]</td>\n",
       "    </tr>\n",
       "    <tr>\n",
       "      <th>1</th>\n",
       "      <td>90194</td>\n",
       "      <td>[user, user, go, home, drunk, user, maga, trum...</td>\n",
       "      <td>OFF</td>\n",
       "      <td>TIN</td>\n",
       "      <td>IND</td>\n",
       "      <td>[user, user, go, home, drunk, user, maga, trum...</td>\n",
       "    </tr>\n",
       "    <tr>\n",
       "      <th>2</th>\n",
       "      <td>16820</td>\n",
       "      <td>[amazon, investigating, chinese, employees, se...</td>\n",
       "      <td>NOT</td>\n",
       "      <td>NaN</td>\n",
       "      <td>NaN</td>\n",
       "      <td>[amazon, investigating, chinese, employee, sel...</td>\n",
       "    </tr>\n",
       "    <tr>\n",
       "      <th>3</th>\n",
       "      <td>62688</td>\n",
       "      <td>[user, someone, shouldvetaken, piece, shit, vo...</td>\n",
       "      <td>OFF</td>\n",
       "      <td>UNT</td>\n",
       "      <td>NaN</td>\n",
       "      <td>[user, someone, shouldvetaken, piece, shit, vo...</td>\n",
       "    </tr>\n",
       "    <tr>\n",
       "      <th>4</th>\n",
       "      <td>43605</td>\n",
       "      <td>[user, user, obama, wanted, liberals, illegals...</td>\n",
       "      <td>NOT</td>\n",
       "      <td>NaN</td>\n",
       "      <td>NaN</td>\n",
       "      <td>[user, user, obama, wanted, liberal, illegals,...</td>\n",
       "    </tr>\n",
       "  </tbody>\n",
       "</table>\n",
       "</div>"
      ],
      "text/plain": [
       "      id                                              tweet subtask_a  \\\n",
       "0  86426               [user, ask, native, americans, take]       OFF   \n",
       "1  90194  [user, user, go, home, drunk, user, maga, trum...       OFF   \n",
       "2  16820  [amazon, investigating, chinese, employees, se...       NOT   \n",
       "3  62688  [user, someone, shouldvetaken, piece, shit, vo...       OFF   \n",
       "4  43605  [user, user, obama, wanted, liberals, illegals...       NOT   \n",
       "\n",
       "  subtask_b subtask_c                                        tweet_lemma  \n",
       "0       UNT       NaN                [user, ask, native, american, take]  \n",
       "1       TIN       IND  [user, user, go, home, drunk, user, maga, trum...  \n",
       "2       NaN       NaN  [amazon, investigating, chinese, employee, sel...  \n",
       "3       UNT       NaN  [user, someone, shouldvetaken, piece, shit, vo...  \n",
       "4       NaN       NaN  [user, user, obama, wanted, liberal, illegals,...  "
      ]
     },
     "execution_count": 14,
     "metadata": {
      "tags": []
     },
     "output_type": "execute_result"
    }
   ],
   "source": [
    "def lemmatisation(dataframe, label, porter = True):\n",
    "    if porter:\n",
    "        lemmatizer = PorterStemmer()\n",
    "        dataframe['tweet_lemma'] = dataframe[label].apply(lambda row: [lemmatizer.stem(word)  for word in row])\n",
    "    else:\n",
    "        lemmatizer = WordNetLemmatizer()\n",
    "        dataframe['tweet_lemma'] = dataframe[label].apply(lambda row: [lemmatizer.lemmatize(word)  for word in row])\n",
    "    return dataframe\n",
    "\n",
    "sub_token_df = lemmatisation(sub_token_df, 'tweet', False)\n",
    "sub_token_df.head()"
   ]
  },
  {
   "cell_type": "code",
   "execution_count": 15,
   "metadata": {
    "colab": {
     "base_uri": "https://localhost:8080/",
     "height": 71
    },
    "colab_type": "code",
    "id": "q0YVC86zypng",
    "outputId": "bcc665e5-d8ee-41e9-db56-9536ace0e731"
   },
   "outputs": [
    {
     "name": "stdout",
     "output_type": "stream",
     "text": [
      "['ask', 'native', 'american', 'take', 'go', 'home', 'drunk', 'maga', 'trump', '👊🇺🇸👊', 'url', 'amazon', 'investigating', 'chinese', 'employee', 'selling', 'internal', 'data', 'thirdparty']\n"
     ]
    },
    {
     "data": {
      "text/plain": [
       "19199"
      ]
     },
     "execution_count": 15,
     "metadata": {
      "tags": []
     },
     "output_type": "execute_result"
    }
   ],
   "source": [
    "# Lemmatised vocabulary\n",
    "voc_lemma = vocabulary_list(sub_token_df, 'tweet_lemma')\n",
    "print(voc_lemma[1:20])\n",
    "\n",
    "voc_lemma_size = len(voc_lemma)\n",
    "voc_lemma_size"
   ]
  },
  {
   "cell_type": "code",
   "execution_count": 0,
   "metadata": {
    "colab": {},
    "colab_type": "code",
    "id": "6epp6m0YvcL0"
   },
   "outputs": [],
   "source": [
    "# Mapping from word to index and index to word. \n",
    "\n",
    "word2idx = {w: idx for (idx, w) in enumerate(voc_lemma)}\n",
    "idx2word = {idx: w for (idx, w) in enumerate(voc_lemma)}"
   ]
  },
  {
   "cell_type": "code",
   "execution_count": 17,
   "metadata": {
    "colab": {
     "base_uri": "https://localhost:8080/",
     "height": 391
    },
    "colab_type": "code",
    "id": "0C5sVDXtxVsP",
    "outputId": "34427908-ae09-494e-c772-bb4569864a15"
   },
   "outputs": [
    {
     "name": "stdout",
     "output_type": "stream",
     "text": [
      "Maximum number of words (tokens) in the tweet: 79\n"
     ]
    },
    {
     "name": "stderr",
     "output_type": "stream",
     "text": [
      "/usr/local/lib/python3.6/dist-packages/ipykernel_launcher.py:1: SettingWithCopyWarning: \n",
      "A value is trying to be set on a copy of a slice from a DataFrame.\n",
      "Try using .loc[row_indexer,col_indexer] = value instead\n",
      "\n",
      "See the caveats in the documentation: http://pandas.pydata.org/pandas-docs/stable/indexing.html#indexing-view-versus-copy\n",
      "  \"\"\"Entry point for launching an IPython kernel.\n"
     ]
    },
    {
     "data": {
      "text/html": [
       "<div>\n",
       "<style scoped>\n",
       "    .dataframe tbody tr th:only-of-type {\n",
       "        vertical-align: middle;\n",
       "    }\n",
       "\n",
       "    .dataframe tbody tr th {\n",
       "        vertical-align: top;\n",
       "    }\n",
       "\n",
       "    .dataframe thead th {\n",
       "        text-align: right;\n",
       "    }\n",
       "</style>\n",
       "<table border=\"1\" class=\"dataframe\">\n",
       "  <thead>\n",
       "    <tr style=\"text-align: right;\">\n",
       "      <th></th>\n",
       "      <th>id</th>\n",
       "      <th>tweet</th>\n",
       "      <th>subtask_a</th>\n",
       "      <th>subtask_b</th>\n",
       "      <th>subtask_c</th>\n",
       "      <th>tweet_lemma</th>\n",
       "      <th>len_tweet</th>\n",
       "    </tr>\n",
       "  </thead>\n",
       "  <tbody>\n",
       "    <tr>\n",
       "      <th>0</th>\n",
       "      <td>86426</td>\n",
       "      <td>[user, ask, native, americans, take]</td>\n",
       "      <td>OFF</td>\n",
       "      <td>UNT</td>\n",
       "      <td>NaN</td>\n",
       "      <td>[user, ask, native, american, take]</td>\n",
       "      <td>5</td>\n",
       "    </tr>\n",
       "    <tr>\n",
       "      <th>1</th>\n",
       "      <td>90194</td>\n",
       "      <td>[user, user, go, home, drunk, user, maga, trum...</td>\n",
       "      <td>OFF</td>\n",
       "      <td>TIN</td>\n",
       "      <td>IND</td>\n",
       "      <td>[user, user, go, home, drunk, user, maga, trum...</td>\n",
       "      <td>10</td>\n",
       "    </tr>\n",
       "    <tr>\n",
       "      <th>2</th>\n",
       "      <td>16820</td>\n",
       "      <td>[amazon, investigating, chinese, employees, se...</td>\n",
       "      <td>NOT</td>\n",
       "      <td>NaN</td>\n",
       "      <td>NaN</td>\n",
       "      <td>[amazon, investigating, chinese, employee, sel...</td>\n",
       "      <td>19</td>\n",
       "    </tr>\n",
       "    <tr>\n",
       "      <th>3</th>\n",
       "      <td>62688</td>\n",
       "      <td>[user, someone, shouldvetaken, piece, shit, vo...</td>\n",
       "      <td>OFF</td>\n",
       "      <td>UNT</td>\n",
       "      <td>NaN</td>\n",
       "      <td>[user, someone, shouldvetaken, piece, shit, vo...</td>\n",
       "      <td>7</td>\n",
       "    </tr>\n",
       "    <tr>\n",
       "      <th>4</th>\n",
       "      <td>43605</td>\n",
       "      <td>[user, user, obama, wanted, liberals, illegals...</td>\n",
       "      <td>NOT</td>\n",
       "      <td>NaN</td>\n",
       "      <td>NaN</td>\n",
       "      <td>[user, user, obama, wanted, liberal, illegals,...</td>\n",
       "      <td>9</td>\n",
       "    </tr>\n",
       "  </tbody>\n",
       "</table>\n",
       "</div>"
      ],
      "text/plain": [
       "      id                                              tweet subtask_a  \\\n",
       "0  86426               [user, ask, native, americans, take]       OFF   \n",
       "1  90194  [user, user, go, home, drunk, user, maga, trum...       OFF   \n",
       "2  16820  [amazon, investigating, chinese, employees, se...       NOT   \n",
       "3  62688  [user, someone, shouldvetaken, piece, shit, vo...       OFF   \n",
       "4  43605  [user, user, obama, wanted, liberals, illegals...       NOT   \n",
       "\n",
       "  subtask_b subtask_c                                        tweet_lemma  \\\n",
       "0       UNT       NaN                [user, ask, native, american, take]   \n",
       "1       TIN       IND  [user, user, go, home, drunk, user, maga, trum...   \n",
       "2       NaN       NaN  [amazon, investigating, chinese, employee, sel...   \n",
       "3       UNT       NaN  [user, someone, shouldvetaken, piece, shit, vo...   \n",
       "4       NaN       NaN  [user, user, obama, wanted, liberal, illegals,...   \n",
       "\n",
       "   len_tweet  \n",
       "0          5  \n",
       "1         10  \n",
       "2         19  \n",
       "3          7  \n",
       "4          9  "
      ]
     },
     "execution_count": 17,
     "metadata": {
      "tags": []
     },
     "output_type": "execute_result"
    }
   ],
   "source": [
    "sub_token_df['len_tweet'] = sub_token_df['tweet_lemma'].apply(len)\n",
    "max_len_tweet = max(sub_token_df.len_tweet)\n",
    "print('Maximum number of words (tokens) in the tweet:', max_len_tweet)\n",
    "sub_token_df.head()"
   ]
  },
  {
   "cell_type": "markdown",
   "metadata": {
    "colab_type": "text",
    "id": "H_TNJBZut5tN"
   },
   "source": [
    "# Sub-task A"
   ]
  },
  {
   "cell_type": "markdown",
   "metadata": {
    "colab_type": "text",
    "id": "-ChoO-MIFcWp"
   },
   "source": [
    "## Split the data for sub-task A into three datasets"
   ]
  },
  {
   "cell_type": "code",
   "execution_count": 18,
   "metadata": {
    "colab": {
     "base_uri": "https://localhost:8080/",
     "height": 153
    },
    "colab_type": "code",
    "id": "L28cPK2lyv-P",
    "outputId": "739fde0e-da80-4e5f-d082-f9a496d2f456"
   },
   "outputs": [
    {
     "name": "stdout",
     "output_type": "stream",
     "text": [
      "(7944, 3)\n",
      "(2648, 3)\n",
      "(2648, 3)\n"
     ]
    },
    {
     "name": "stderr",
     "output_type": "stream",
     "text": [
      "/usr/local/lib/python3.6/dist-packages/pandas/core/frame.py:3027: SettingWithCopyWarning: \n",
      "A value is trying to be set on a copy of a slice from a DataFrame\n",
      "\n",
      "See the caveats in the documentation: http://pandas.pydata.org/pandas-docs/stable/indexing.html#indexing-view-versus-copy\n",
      "  return super(DataFrame, self).rename(**kwargs)\n"
     ]
    }
   ],
   "source": [
    "# Extract necessary columns\n",
    "fin_df_a = sub_token_df[['id', 'tweet_lemma', 'subtask_a']]\n",
    "fin_df_a.rename(columns = {'tweet_lemma':'tweet'}, inplace = True)\n",
    "\n",
    "# Train Test Val Split with a ratio of 80:20:20\n",
    "df_train, df_test = train_test_split(fin_df_a, test_size = 0.2, random_state = 24)\n",
    "df_train, df_val = train_test_split(df_train, test_size = 0.25, random_state = 24)\n",
    "print(df_train.shape)\n",
    "print(df_val.shape)\n",
    "print(df_test.shape)"
   ]
  },
  {
   "cell_type": "markdown",
   "metadata": {
    "colab_type": "text",
    "id": "H5geXUrXGHP7"
   },
   "source": [
    "## Transform the given data into an input for the neural network"
   ]
  },
  {
   "cell_type": "code",
   "execution_count": 19,
   "metadata": {
    "colab": {
     "base_uri": "https://localhost:8080/",
     "height": 170
    },
    "colab_type": "code",
    "id": "NLx7e1GfyoMm",
    "outputId": "7b86d6e8-89ad-491f-cbee-228a8ee4ec30"
   },
   "outputs": [
    {
     "name": "stdout",
     "output_type": "stream",
     "text": [
      "0\n",
      "1000\n",
      "2000\n",
      "3000\n",
      "4000\n",
      "5000\n",
      "6000\n",
      "7000\n",
      "Shape of the input: torch.Size([7944, 79])\n"
     ]
    }
   ],
   "source": [
    "def get_model_inputs(dataframe, word2idx, column, target, max_len):\n",
    "    # Input\n",
    "    data = dataframe.copy()\n",
    "\n",
    "    # Converts words to index\n",
    "    data['index_tweet'] = data.tweet.apply(lambda x: [word2idx[tok] for tok in x if tok in word2idx])\n",
    "\n",
    "    # Create a tensor of a fixed size filled with zeroes for padding\n",
    "    #data_tensor = Variable(torch.zeros((len(dataframe), max_len, embedding)))#.long() # Shape: No_tweets x maximum_length of tweets x embedding\n",
    "    data_tensor = Variable(torch.zeros((len(dataframe), max_len))).long()\n",
    "    \n",
    "    # List of the lengths of each tweet\n",
    "    tweet_lengths = list(data['index_tweet'].map(len).values)\n",
    "\n",
    "    # Fill with the indexes\n",
    "    for idx, (indices, tweet) in enumerate(zip(data['index_tweet'], tweet_lengths)):\n",
    "        if idx % 1000 == 0:\n",
    "            print(idx)\n",
    "            \n",
    "        # With a custom word embedding matrix\n",
    "        #word = Variable(look_up_table_sent(indices)).float() # Shape: (voc_lemma_size, len(indices))\n",
    "        #word_emb = torch.matmul(matrix, word).detach().numpy() # Shape: (embedding, len(indices))\n",
    "        #data_tensor[idx, :tweet] = torch.FloatTensor(word_emb.transpose(1, 0))\n",
    "        data_tensor[idx, :tweet] = torch.LongTensor(indices)\n",
    "\n",
    "    # Labels\n",
    "    labels = dataframe[target].copy()\n",
    "    labels[labels == 'OFF'] = 1.\n",
    "    labels[labels == 'NOT'] = 0.\n",
    "    labels_val = labels.values.astype(dtype = 'float32')\n",
    "    label_tensor = torch.from_numpy(labels_val)\n",
    "\n",
    "    return data_tensor, label_tensor\n",
    "\n",
    "train_data_tensor, train_label_tensor = get_model_inputs(df_train, word2idx, 'tweet', 'subtask_a', max_len_tweet)\n",
    "\n",
    "print('Shape of the input:', train_data_tensor.shape)"
   ]
  },
  {
   "cell_type": "code",
   "execution_count": 20,
   "metadata": {
    "colab": {
     "base_uri": "https://localhost:8080/",
     "height": 119
    },
    "colab_type": "code",
    "id": "D8FMFY7RlX3h",
    "outputId": "4071cc7e-5dfb-41ef-f6c7-14d433b0139c"
   },
   "outputs": [
    {
     "name": "stdout",
     "output_type": "stream",
     "text": [
      "0\n",
      "1000\n",
      "2000\n",
      "0\n",
      "1000\n",
      "2000\n"
     ]
    }
   ],
   "source": [
    "# Apply the transformation for the validation and test datasets\n",
    "# Validation\n",
    "val_data_tensor, val_label_tensor = get_model_inputs(df_val, word2idx, 'tweet', 'subtask_a', max_len_tweet)\n",
    "\n",
    "# Testing\n",
    "test_data_tensor, test_label_tensor = get_model_inputs(df_test, word2idx, 'tweet', 'subtask_a', max_len_tweet)"
   ]
  },
  {
   "cell_type": "code",
   "execution_count": 21,
   "metadata": {
    "colab": {
     "base_uri": "https://localhost:8080/",
     "height": 34
    },
    "colab_type": "code",
    "id": "GqyZK-CUHj-H",
    "outputId": "9827b2d4-e01e-4358-f167-62e52e898132"
   },
   "outputs": [
    {
     "name": "stdout",
     "output_type": "stream",
     "text": [
      "torch.Size([7944, 79])\n"
     ]
    }
   ],
   "source": [
    "# Transform the training data into a Pytorch DataLoader object\n",
    "batch_size = 25 #75\n",
    "\n",
    "# Data loading\n",
    "print(train_data_tensor.shape)\n",
    "train_data = TensorDataset(train_data_tensor, train_label_tensor)\n",
    "train_dl = DataLoader(train_data, batch_size = batch_size)"
   ]
  },
  {
   "cell_type": "markdown",
   "metadata": {
    "colab_type": "text",
    "id": "4s_T-uuTHOlm"
   },
   "source": [
    "## Two useful metric functions: accuracy and F1 score"
   ]
  },
  {
   "cell_type": "code",
   "execution_count": 0,
   "metadata": {
    "colab": {},
    "colab_type": "code",
    "id": "QhyCCXWVHIsx"
   },
   "outputs": [],
   "source": [
    "def accuracy(output, target):\n",
    "    output = torch.round(torch.sigmoid(output))\n",
    "    correct = (output == target).float()\n",
    "    acc = correct.sum()/len(correct)\n",
    "    return acc\n",
    "  \n",
    "  \n",
    "def f_measure(output, gold, log = True):\n",
    "    gold = gold.detach().numpy()\n",
    "\n",
    "    pred = torch.round(torch.sigmoid(output))\n",
    "    pred = pred.detach().numpy()\n",
    "    #print(pred)\n",
    "   \n",
    "    test_pos_preds = np.sum(pred)\n",
    "    test_pos_real = np.sum(gold)\n",
    "    \n",
    "    correct = (np.logical_and(pred, gold)).astype(int)\n",
    "    correct = np.sum(correct)\n",
    "    #print(correct)\n",
    "\n",
    "    precision = correct/test_pos_preds\n",
    "    recall = correct/test_pos_real\n",
    "  \n",
    "    fscore = 2.0*precision*recall/(precision+recall)\n",
    "    \n",
    "    if log:\n",
    "        print(\"Test: Recall: %.2f, Precision: %.2f, F-measure: %.2f\\n\" % (recall, precision, fscore))\n",
    "    return fscore"
   ]
  },
  {
   "cell_type": "markdown",
   "metadata": {
    "colab_type": "text",
    "id": "Gm0NWdR3HbPs"
   },
   "source": [
    "## General variables for the neural network"
   ]
  },
  {
   "cell_type": "code",
   "execution_count": 23,
   "metadata": {
    "colab": {
     "base_uri": "https://localhost:8080/",
     "height": 34
    },
    "colab_type": "code",
    "id": "1jaVQ21wW47B",
    "outputId": "748fd80b-72dc-4a58-cafc-4ddd463aaa5a"
   },
   "outputs": [
    {
     "name": "stdout",
     "output_type": "stream",
     "text": [
      "Input dimension: 19199\n"
     ]
    }
   ],
   "source": [
    "# Number of epochs\n",
    "epochs = 20 \n",
    "\n",
    "# Input dimension: vocabulary size\n",
    "input_dim = len(word2idx)  #19199 with WordNet\n",
    "print('Input dimension:', input_dim)\n",
    "\n",
    "# Embedding dimension: dimensionality of the output of the first layer\n",
    "embedding_dim = 100\n",
    "\n",
    "# Dimensionality of the output of the second hidden layer\n",
    "hidden_dim = 128\n",
    "\n",
    "# Outut dimension: number of classes, 1 for binary classification\n",
    "output_dim = 1"
   ]
  },
  {
   "cell_type": "markdown",
   "metadata": {
    "colab_type": "text",
    "id": "WOUfp8A8JYDt"
   },
   "source": [
    "## Some variables specific to CNN"
   ]
  },
  {
   "cell_type": "code",
   "execution_count": 0,
   "metadata": {
    "colab": {},
    "colab_type": "code",
    "id": "woDE_a-7JVJP"
   },
   "outputs": [],
   "source": [
    "# Number of filters\n",
    "n_out_channels = 100\n",
    "\n",
    "# Window size\n",
    "window_size = 1\n",
    "\n",
    "# Dropout with the probability 0.5\n",
    "dropout = 0.5"
   ]
  },
  {
   "cell_type": "markdown",
   "metadata": {
    "colab_type": "text",
    "id": "KA2g6KEvITjO"
   },
   "source": [
    "## Convolutional Neural Network"
   ]
  },
  {
   "cell_type": "code",
   "execution_count": 0,
   "metadata": {
    "colab": {},
    "colab_type": "code",
    "id": "xpBHBRWfou29"
   },
   "outputs": [],
   "source": [
    "class CNN(nn.Module):\n",
    "    \n",
    "    def __init__(self, vocab_size, embedding_dim, out_channels, window_size, output_dim, dropout):\n",
    "        super(CNN, self).__init__()\n",
    "        self.embedding = nn.Embedding(vocab_size, embedding_dim)\n",
    "        \n",
    "        self.conv = nn.Conv2d(in_channels=1, out_channels=out_channels, kernel_size=(window_size,embedding_dim))\n",
    "        \n",
    "        #the dropout layer\n",
    "        self.dropout = nn.Dropout(dropout)\n",
    "    \n",
    "        #the output layer\n",
    "        self.fc = nn.Linear(out_channels, output_dim)\n",
    "        \n",
    "        \n",
    "    def forward(self, x):\n",
    "        embedded = self.embedding(x)\n",
    "        embedded = embedded.unsqueeze(1)\n",
    "        \n",
    "        feature_maps = self.conv(embedded)\n",
    "        feature_maps = feature_maps.squeeze(3)\n",
    "        feature_maps = F.relu(feature_maps)\n",
    "        \n",
    "        # Max pooling layer\n",
    "        pooled = F.max_pool1d(feature_maps, feature_maps.shape[2])\n",
    "        \n",
    "        pooled = pooled.squeeze(2)\n",
    "        \n",
    "        dropped = self.dropout(pooled)\n",
    "        preds = self.fc(dropped)\n",
    "        return preds\n"
   ]
  },
  {
   "cell_type": "markdown",
   "metadata": {
    "colab_type": "text",
    "id": "9cQxH3OCIfGE"
   },
   "source": [
    "## Training the neural network"
   ]
  },
  {
   "cell_type": "code",
   "execution_count": 0,
   "metadata": {
    "colab": {},
    "colab_type": "code",
    "id": "Tc62El1kLI9p"
   },
   "outputs": [],
   "source": [
    "# Binary classification\n",
    "output_dim = 1\n",
    "\n",
    "# Variables for the SDG\n",
    "# Learning rate\n",
    "lr = 0.05 #0.1\n",
    "\n",
    "# Momentum\n",
    "momentum = 0.9 #0\n",
    "\n",
    "loss_func = nn.BCEWithLogitsLoss()\n",
    "\n",
    "def train_batch(model, optimizer, train_dl, loss_func):\n",
    "    for X_batch, y_batch in train_dl:\n",
    "        #print(X_batch.shape)\n",
    "        # squeeze is needed as the predictions are initially size (batch size, 1) and we need to remove the dimension of size 1 \n",
    "        pred = model(X_batch).squeeze(1)\n",
    "        loss = loss_func(pred, y_batch)\n",
    "        acc = accuracy(pred, y_batch)\n",
    "\n",
    "        loss.backward()\n",
    "        optimizer.step() # Updates the parameters thanks to the gradient\n",
    "        optimizer.zero_grad()\n",
    "\n",
    "    return loss.item(), acc\n",
    "\n",
    "def evaluation(model, data_tensor, label_tensor, loss_func):\n",
    "    with torch.no_grad():\n",
    "        predictions = model(data_tensor).squeeze(1)\n",
    "        loss = loss_func(predictions, label_tensor)\n",
    "        acc = accuracy(predictions, label_tensor)\n",
    "    return predictions, loss.item(), acc\n"
   ]
  },
  {
   "cell_type": "code",
   "execution_count": 27,
   "metadata": {
    "colab": {
     "base_uri": "https://localhost:8080/",
     "height": 374
    },
    "colab_type": "code",
    "id": "ldZ8OsYzoydN",
    "outputId": "62d62503-cb96-4868-f7c9-20ff0c312a2a"
   },
   "outputs": [
    {
     "name": "stdout",
     "output_type": "stream",
     "text": [
      "| Epoch: 01 | Train Loss: 1.328 | Train Acc: 63.16% | Val. Loss: 2.401 | Val. Acc: 41.62% |\n",
      "| Epoch: 02 | Train Loss: 1.466 | Train Acc: 78.95% | Val. Loss: 2.025 | Val. Acc: 68.43% |\n",
      "| Epoch: 03 | Train Loss: 0.527 | Train Acc: 78.95% | Val. Loss: 0.595 | Val. Acc: 71.75% |\n",
      "| Epoch: 04 | Train Loss: 0.351 | Train Acc: 89.47% | Val. Loss: 0.574 | Val. Acc: 73.19% |\n",
      "| Epoch: 05 | Train Loss: 0.477 | Train Acc: 68.42% | Val. Loss: 0.570 | Val. Acc: 74.06% |\n",
      "| Epoch: 06 | Train Loss: 0.364 | Train Acc: 94.74% | Val. Loss: 0.555 | Val. Acc: 75.04% |\n",
      "| Epoch: 07 | Train Loss: 0.568 | Train Acc: 78.95% | Val. Loss: 0.558 | Val. Acc: 75.08% |\n",
      "| Epoch: 08 | Train Loss: 0.403 | Train Acc: 89.47% | Val. Loss: 0.561 | Val. Acc: 74.24% |\n",
      "| Epoch: 09 | Train Loss: 0.398 | Train Acc: 84.21% | Val. Loss: 0.555 | Val. Acc: 74.74% |\n",
      "| Epoch: 10 | Train Loss: 0.503 | Train Acc: 78.95% | Val. Loss: 0.558 | Val. Acc: 74.92% |\n",
      "| Epoch: 11 | Train Loss: 0.391 | Train Acc: 89.47% | Val. Loss: 0.557 | Val. Acc: 75.11% |\n",
      "| Epoch: 12 | Train Loss: 0.382 | Train Acc: 94.74% | Val. Loss: 0.564 | Val. Acc: 74.17% |\n",
      "| Epoch: 13 | Train Loss: 0.383 | Train Acc: 84.21% | Val. Loss: 0.588 | Val. Acc: 74.02% |\n",
      "| Epoch: 14 | Train Loss: 0.296 | Train Acc: 84.21% | Val. Loss: 0.570 | Val. Acc: 75.34% |\n",
      "| Epoch: 15 | Train Loss: 0.439 | Train Acc: 84.21% | Val. Loss: 0.568 | Val. Acc: 75.45% |\n",
      "| Epoch: 16 | Train Loss: 0.545 | Train Acc: 78.95% | Val. Loss: 0.558 | Val. Acc: 75.68% |\n",
      "| Epoch: 17 | Train Loss: 0.480 | Train Acc: 84.21% | Val. Loss: 0.552 | Val. Acc: 76.32% |\n",
      "| Epoch: 18 | Train Loss: 0.328 | Train Acc: 94.74% | Val. Loss: 0.563 | Val. Acc: 76.02% |\n",
      "| Epoch: 19 | Train Loss: 0.549 | Train Acc: 73.68% | Val. Loss: 0.568 | Val. Acc: 75.00% |\n",
      "| Epoch: 20 | Train Loss: 0.535 | Train Acc: 73.68% | Val. Loss: 0.576 | Val. Acc: 74.43% |\n",
      "F_score on the validation set: 0.5519523494374586\n"
     ]
    }
   ],
   "source": [
    "def train(train_dl, val_data_tensor, val_label_tensor, lr, epochs, input_dim, \n",
    "          embedding_dim, n_out_channels, window_size, output_dim, dropout, momentum):\n",
    "  \n",
    "    # Set random seeds for reproducible results\n",
    "    torch.manual_seed(24)\n",
    "\n",
    "    model = CNN(input_dim, embedding_dim, n_out_channels, window_size, output_dim, dropout)\n",
    "    optimizer = optim.SGD(model.parameters(), lr = lr, momentum = momentum)\n",
    "    loss_func = nn.BCEWithLogitsLoss()\n",
    "\n",
    "    # Save loss results per epoch for plots\n",
    "    train_loss_history, val_loss_history = [], []\n",
    "\n",
    "    for epoch in range(1, epochs+1):\n",
    "        # Training\n",
    "        model.train()\n",
    "        epoch_loss, epoch_acc = train_batch(model, optimizer, train_dl, loss_func)\n",
    "\n",
    "        model.eval()\n",
    "        predictions_valid, valid_loss, valid_acc = evaluation(model, val_data_tensor, val_label_tensor, loss_func)\n",
    "\n",
    "        print(f'| Epoch: {epoch:02} | Train Loss: {epoch_loss:.3f} | Train Acc: {epoch_acc*100:.2f}% | Val. Loss: {valid_loss:.3f} | Val. Acc: {valid_acc*100:.2f}% |')\n",
    "        train_loss_history += [epoch_loss]\n",
    "        val_loss_history += [valid_loss]\n",
    "\n",
    "    f_score = f_measure(predictions_valid, val_label_tensor, log = False)\n",
    "    print('F_score on the validation set:', f_score)\n",
    "    return model, train_loss_history, val_loss_history\n",
    "\n",
    "model, train_loss_history, val_loss_history = train(train_dl, val_data_tensor, \n",
    "                                                    val_label_tensor, lr, epochs, input_dim, embedding_dim, \n",
    "                                                    n_out_channels, window_size, output_dim, dropout, \n",
    "                                                    momentum)"
   ]
  },
  {
   "cell_type": "markdown",
   "metadata": {
    "colab_type": "text",
    "id": "RrH56wViLsjP"
   },
   "source": [
    " ## Plot the training and validation loss"
   ]
  },
  {
   "cell_type": "code",
   "execution_count": 29,
   "metadata": {
    "colab": {
     "base_uri": "https://localhost:8080/",
     "height": 300
    },
    "colab_type": "code",
    "id": "2x3PuolzQ4MH",
    "outputId": "b718214e-87ea-4bf6-93ca-daaf1ca16928"
   },
   "outputs": [
    {
     "name": "stdout",
     "output_type": "stream",
     "text": [
      "20 20\n"
     ]
    },
    {
     "data": {
      "image/png": "[encoded data removed]",
      "text/plain": [
       "<Figure size 432x288 with 1 Axes>"
      ]
     },
     "metadata": {
      "tags": []
     },
     "output_type": "display_data"
    }
   ],
   "source": [
    "def plot_loss_curves(train, val):\n",
    "    epochs = len(train)\n",
    "    epoch = [i for i in range(epochs)]\n",
    "    fig, ax = plt.subplots()\n",
    "    ax.plot(epoch, train, label = 'train')\n",
    "    ax.plot(epoch, val, label = 'validation')\n",
    "    ax.legend()\n",
    "    plt.xlabel('Epochs')\n",
    "    plt.ylabel('Binary cross-entropy loss with sigmoid')\n",
    "    plt.show()\n",
    "\n",
    "print(len(train_loss_history), len(val_loss_history))\n",
    "plot_loss_curves(train_loss_history, val_loss_history)"
   ]
  },
  {
   "cell_type": "markdown",
   "metadata": {
    "colab_type": "text",
    "id": "yrVnLyTDL1e3"
   },
   "source": [
    "## Grid search for hyperparameter tuning"
   ]
  },
  {
   "cell_type": "code",
   "execution_count": 36,
   "metadata": {
    "colab": {
     "base_uri": "https://localhost:8080/",
     "height": 714
    },
    "colab_type": "code",
    "id": "VcHhxhGQjX6T",
    "outputId": "c2c5ecc1-8221-4524-badd-de5105fdad6b"
   },
   "outputs": [
    {
     "name": "stdout",
     "output_type": "stream",
     "text": [
      "Learning rate: 0.5 \tMomentum: 0\n",
      "It takes 237.487629 seconds for a learning rate of 0.5 and a momentum of 0.\n",
      "Learning rate: 0.5 \tMomentum: 0.3\n",
      "It takes 180.897120 seconds for a learning rate of 0.5 and a momentum of 0.3.\n",
      "Learning rate: 0.5 \tMomentum: 0.5\n",
      "It takes 134.093027 seconds for a learning rate of 0.5 and a momentum of 0.5.\n",
      "Learning rate: 0.5 \tMomentum: 0.9\n",
      "It takes 142.345233 seconds for a learning rate of 0.5 and a momentum of 0.9.\n",
      "Learning rate: 0.3 \tMomentum: 0\n",
      "It takes 119.853264 seconds for a learning rate of 0.3 and a momentum of 0.\n",
      "Learning rate: 0.3 \tMomentum: 0.3\n",
      "It takes 279.510054 seconds for a learning rate of 0.3 and a momentum of 0.3.\n",
      "Learning rate: 0.3 \tMomentum: 0.5\n",
      "It takes 173.496515 seconds for a learning rate of 0.3 and a momentum of 0.5.\n",
      "Learning rate: 0.3 \tMomentum: 0.9\n",
      "It takes 168.846707 seconds for a learning rate of 0.3 and a momentum of 0.9.\n",
      "Learning rate: 0.1 \tMomentum: 0\n",
      "It takes 136.016788 seconds for a learning rate of 0.1 and a momentum of 0.\n",
      "Learning rate: 0.1 \tMomentum: 0.3\n",
      "It takes 257.472224 seconds for a learning rate of 0.1 and a momentum of 0.3.\n",
      "Learning rate: 0.1 \tMomentum: 0.5\n",
      "It takes 227.668466 seconds for a learning rate of 0.1 and a momentum of 0.5.\n",
      "Learning rate: 0.1 \tMomentum: 0.9\n",
      "It takes 238.318798 seconds for a learning rate of 0.1 and a momentum of 0.9.\n",
      "Learning rate: 0.05 \tMomentum: 0\n",
      "It takes 196.759973 seconds for a learning rate of 0.05 and a momentum of 0.\n",
      "Learning rate: 0.05 \tMomentum: 0.3\n",
      "It takes 239.826917 seconds for a learning rate of 0.05 and a momentum of 0.3.\n",
      "Learning rate: 0.05 \tMomentum: 0.5\n",
      "It takes 219.872527 seconds for a learning rate of 0.05 and a momentum of 0.5.\n",
      "Learning rate: 0.05 \tMomentum: 0.9\n",
      "It takes 240.908145 seconds for a learning rate of 0.05 and a momentum of 0.9.\n",
      "Learning rate: 0.01 \tMomentum: 0\n",
      "It takes 123.003122 seconds for a learning rate of 0.01 and a momentum of 0.\n",
      "Learning rate: 0.01 \tMomentum: 0.3\n",
      "It takes 162.816675 seconds for a learning rate of 0.01 and a momentum of 0.3.\n",
      "Learning rate: 0.01 \tMomentum: 0.5\n",
      "It takes 178.801336 seconds for a learning rate of 0.01 and a momentum of 0.5.\n",
      "Learning rate: 0.01 \tMomentum: 0.9\n",
      "It takes 134.732829 seconds for a learning rate of 0.01 and a momentum of 0.9.\n"
     ]
    },
    {
     "data": {
      "text/plain": [
       "([0.05, 0.9], 0.5714285714285714)"
      ]
     },
     "execution_count": 36,
     "metadata": {
      "tags": []
     },
     "output_type": "execute_result"
    }
   ],
   "source": [
    "def grid_search():\n",
    "    ''' \n",
    "    A function to perform a basic grid search for hyperparameter tuning.\n",
    "\n",
    "    The function evaluates different values of learning rates and of momentum in order to\n",
    "    compare the performance of the stochastic gradient descent. \n",
    "    Returns the best parameter set and the corresponding accuracy.\n",
    "    '''\n",
    "\n",
    "    # Set random seeds for reproducible results\n",
    "    torch.manual_seed(24)\n",
    "    lr = [0.5, 0.3, 0.1, 0.05, 0.01]#, 0.005, 0.0001]\n",
    "    momentum = [0, 0.3, 0.5, 0.9]\n",
    "    parameters = [lr, momentum]\n",
    "\n",
    "    best_f_score = 0 # Initialisation\n",
    "    best_params = [None, None]\n",
    "\n",
    "    # Set seed for reproducible results\n",
    "    torch.manual_seed(24)\n",
    "\n",
    "    for param1 in parameters[0]:\n",
    "        for param2 in parameters[1]:\n",
    "            start = time.time()\n",
    "            print('Learning rate:', param1, '\\tMomentum:', param2)\n",
    "\n",
    "            # Create the neural network\n",
    "            model = CNN(input_dim, embedding_dim, n_out_channels, window_size, output_dim, dropout)\n",
    "\n",
    "            #model.embedding.weight.data.copy_(torch.from_numpy(wvecs))\n",
    "\n",
    "            optimizer = optim.SGD(model.parameters(), lr = param1, momentum = param2)\n",
    "            loss_func = nn.BCEWithLogitsLoss()\n",
    "\n",
    "            for epoch in range(1, epochs+1):\n",
    "                # Training\n",
    "                model.train()\n",
    "                epoch_loss, epoch_acc = train_batch(model, optimizer, train_dl, loss_func)\n",
    "\n",
    "                # On the validation dataset\n",
    "                model.eval()\n",
    "                predictions_valid, valid_loss, valid_acc = evaluation(model, val_data_tensor, val_label_tensor, loss_func)\n",
    "\n",
    "            with torch.no_grad():\n",
    "                f_score = f_measure(predictions_valid, val_label_tensor, False)\n",
    "\n",
    "            if f_score > best_f_score:\n",
    "                best_f_score = f_score\n",
    "                best_params[0], best_params[1] = param1, param2\n",
    "\n",
    "            duration = time.time() - start\n",
    "            print('It takes {0:.6f} seconds for a learning rate of {1} and a momentum of {2}.'.format(duration, param1, param2))\n",
    "\n",
    "    return best_params, best_f_score\n",
    "\n",
    "grid_search()"
   ]
  },
  {
   "cell_type": "markdown",
   "metadata": {
    "colab_type": "text",
    "id": "WAusxAObL6QQ"
   },
   "source": [
    "## Performance on the test dataset"
   ]
  },
  {
   "cell_type": "code",
   "execution_count": 30,
   "metadata": {
    "colab": {
     "base_uri": "https://localhost:8080/",
     "height": 102
    },
    "colab_type": "code",
    "id": "KhuV_zp4s3mt",
    "outputId": "26abe77b-8867-4768-e484-c0cc34427bcc"
   },
   "outputs": [
    {
     "name": "stdout",
     "output_type": "stream",
     "text": [
      "torch.Size([2648, 79])\n",
      "tensor([ 2.1331, -1.2353,  0.3578,  ...,  0.0125, -1.2354,  1.2098])\n",
      "| Test Loss: 0.598 | Test Acc: 73.23%\n",
      "Test: Recall: 0.46, Precision: 0.65, F-measure: 0.54\n",
      "\n"
     ]
    }
   ],
   "source": [
    "# Test\n",
    "print(test_data_tensor.shape)\n",
    "\n",
    "model.eval()\n",
    "predictions, loss, acc = evaluation(model, test_data_tensor, test_label_tensor, loss_func)\n",
    "\n",
    "with torch.no_grad():\n",
    "    print(predictions)\n",
    "    print(f'| Test Loss: {loss:.3f} | Test Acc: {acc*100:.2f}%')\n",
    "    f_measure(predictions, test_label_tensor)"
   ]
  },
  {
   "cell_type": "code",
   "execution_count": 31,
   "metadata": {
    "colab": {
     "base_uri": "https://localhost:8080/",
     "height": 102
    },
    "colab_type": "code",
    "id": "0w7IHRo_tLyF",
    "outputId": "2ada9669-b0f3-4e7f-ab43-c5d9d76353a9"
   },
   "outputs": [
    {
     "name": "stdout",
     "output_type": "stream",
     "text": [
      "tensor([1., 0., 1., 0., 0., 0., 0., 0., 0., 0.])\n",
      "[1 0 1 ... 1 0 1]\n",
      "[1 0 0 ... 0 0 0]\n"
     ]
    },
    {
     "data": {
      "text/plain": [
       "array([[1527,  222],\n",
       "       [ 487,  412]])"
      ]
     },
     "execution_count": 31,
     "metadata": {
      "tags": []
     },
     "output_type": "execute_result"
    }
   ],
   "source": [
    "#@title Confusion matrix\n",
    "print(torch.round(torch.sigmoid(predictions)[0:10]))\n",
    "#print(torch.round(torch.sigmoid(predictions)).unique())\n",
    "y_pred = torch.round(torch.sigmoid(predictions)).detach().numpy().astype(int)\n",
    "print(y_pred)\n",
    "y_true = test_label_tensor.detach().numpy().astype(int)\n",
    "print(y_true)\n",
    "confusion_matrix(y_true, y_pred)"
   ]
  },
  {
   "cell_type": "markdown",
   "metadata": {
    "colab_type": "text",
    "id": "6gRLtk-zMLLP"
   },
   "source": [
    "## Convert the output labels into the corresponding labels"
   ]
  },
  {
   "cell_type": "code",
   "execution_count": 32,
   "metadata": {
    "colab": {
     "base_uri": "https://localhost:8080/",
     "height": 204
    },
    "colab_type": "code",
    "id": "8dqP-CQson-e",
    "outputId": "95ea6a77-ad10-4c26-b0f5-b4580f7460cf"
   },
   "outputs": [
    {
     "data": {
      "text/html": [
       "<div>\n",
       "<style scoped>\n",
       "    .dataframe tbody tr th:only-of-type {\n",
       "        vertical-align: middle;\n",
       "    }\n",
       "\n",
       "    .dataframe tbody tr th {\n",
       "        vertical-align: top;\n",
       "    }\n",
       "\n",
       "    .dataframe thead th {\n",
       "        text-align: right;\n",
       "    }\n",
       "</style>\n",
       "<table border=\"1\" class=\"dataframe\">\n",
       "  <thead>\n",
       "    <tr style=\"text-align: right;\">\n",
       "      <th></th>\n",
       "      <th>pred</th>\n",
       "      <th>class</th>\n",
       "    </tr>\n",
       "  </thead>\n",
       "  <tbody>\n",
       "    <tr>\n",
       "      <th>0</th>\n",
       "      <td>1</td>\n",
       "      <td>OFF</td>\n",
       "    </tr>\n",
       "    <tr>\n",
       "      <th>1</th>\n",
       "      <td>0</td>\n",
       "      <td>NOT</td>\n",
       "    </tr>\n",
       "    <tr>\n",
       "      <th>2</th>\n",
       "      <td>1</td>\n",
       "      <td>OFF</td>\n",
       "    </tr>\n",
       "    <tr>\n",
       "      <th>3</th>\n",
       "      <td>0</td>\n",
       "      <td>NOT</td>\n",
       "    </tr>\n",
       "    <tr>\n",
       "      <th>4</th>\n",
       "      <td>0</td>\n",
       "      <td>NOT</td>\n",
       "    </tr>\n",
       "  </tbody>\n",
       "</table>\n",
       "</div>"
      ],
      "text/plain": [
       "   pred class\n",
       "0     1   OFF\n",
       "1     0   NOT\n",
       "2     1   OFF\n",
       "3     0   NOT\n",
       "4     0   NOT"
      ]
     },
     "execution_count": 32,
     "metadata": {
      "tags": []
     },
     "output_type": "execute_result"
    }
   ],
   "source": [
    "def predict(raw_prediction):\n",
    "    torch.manual_seed(24)\n",
    "    y = torch.round(torch.sigmoid(raw_prediction)).detach().numpy().astype(int)\n",
    "    y_pred = pd.DataFrame(y, columns = ['pred'])\n",
    "    return y_pred\n",
    "\n",
    "y_pred = predict(predictions)\n",
    "y_pred['class'] = 'NOT'\n",
    "y_pred.loc[y_pred['pred'] == 1, 'class'] = 'OFF'\n",
    "\n",
    "y_pred.head()"
   ]
  },
  {
   "cell_type": "markdown",
   "metadata": {
    "colab_type": "text",
    "id": "7wRNpP77MVeg"
   },
   "source": [
    "## Training the model on the whole dataset"
   ]
  },
  {
   "cell_type": "code",
   "execution_count": 33,
   "metadata": {
    "colab": {
     "base_uri": "https://localhost:8080/",
     "height": 595
    },
    "colab_type": "code",
    "id": "tG6PoGnJxox0",
    "outputId": "052d5aaf-d482-44b6-d1b7-7166212f03fb"
   },
   "outputs": [
    {
     "name": "stdout",
     "output_type": "stream",
     "text": [
      "0\n",
      "1000\n",
      "2000\n",
      "3000\n",
      "4000\n",
      "5000\n",
      "6000\n",
      "7000\n",
      "8000\n",
      "9000\n",
      "10000\n",
      "11000\n",
      "12000\n",
      "13000\n",
      "| Epoch: 01 | Train Loss: 2.936 | Train Acc: 53.33% |\n",
      "| Epoch: 02 | Train Loss: 0.784 | Train Acc: 60.00% |\n",
      "| Epoch: 03 | Train Loss: 0.610 | Train Acc: 80.00% |\n",
      "| Epoch: 04 | Train Loss: 0.469 | Train Acc: 80.00% |\n",
      "| Epoch: 05 | Train Loss: 0.418 | Train Acc: 86.67% |\n",
      "| Epoch: 06 | Train Loss: 0.424 | Train Acc: 86.67% |\n",
      "| Epoch: 07 | Train Loss: 0.564 | Train Acc: 80.00% |\n",
      "| Epoch: 08 | Train Loss: 0.421 | Train Acc: 86.67% |\n",
      "| Epoch: 09 | Train Loss: 0.398 | Train Acc: 86.67% |\n",
      "| Epoch: 10 | Train Loss: 0.459 | Train Acc: 80.00% |\n",
      "| Epoch: 11 | Train Loss: 0.445 | Train Acc: 80.00% |\n",
      "| Epoch: 12 | Train Loss: 0.451 | Train Acc: 86.67% |\n",
      "| Epoch: 13 | Train Loss: 0.489 | Train Acc: 66.67% |\n",
      "| Epoch: 14 | Train Loss: 0.516 | Train Acc: 80.00% |\n",
      "| Epoch: 15 | Train Loss: 0.452 | Train Acc: 80.00% |\n",
      "| Epoch: 16 | Train Loss: 0.367 | Train Acc: 86.67% |\n",
      "| Epoch: 17 | Train Loss: 0.419 | Train Acc: 86.67% |\n",
      "| Epoch: 18 | Train Loss: 0.409 | Train Acc: 80.00% |\n",
      "| Epoch: 19 | Train Loss: 0.372 | Train Acc: 86.67% |\n",
      "| Epoch: 20 | Train Loss: 0.397 | Train Acc: 86.67% |\n"
     ]
    }
   ],
   "source": [
    "data_tensor_a, label_tensor_a = get_model_inputs(fin_df_a, word2idx, 'tweet', 'subtask_a', max_len_tweet)\n",
    "\n",
    "train_data_a = TensorDataset(data_tensor_a, label_tensor_a)\n",
    "train_dl_a = DataLoader(train_data_a, batch_size = batch_size)\n",
    "\n",
    "# Set random seeds for reproducible results\n",
    "torch.manual_seed(24)\n",
    "\n",
    "model_a = CNN(input_dim, embedding_dim, n_out_channels, window_size, output_dim, dropout)\n",
    "\n",
    "optimizer = optim.SGD(model_a.parameters(), lr = lr, momentum = momentum)\n",
    "loss_func = nn.BCEWithLogitsLoss()\n",
    "\n",
    "for epoch in range(1, epochs+1):\n",
    "    # Training\n",
    "    model_a.train()\n",
    "    epoch_loss, epoch_acc = train_batch(model_a, optimizer, train_dl_a, loss_func)\n",
    "    print(f'| Epoch: {epoch:02} | Train Loss: {epoch_loss:.3f} | Train Acc: {epoch_acc*100:.2f}% |')"
   ]
  },
  {
   "cell_type": "markdown",
   "metadata": {
    "colab_type": "text",
    "id": "7dnIWmKnN1L9"
   },
   "source": [
    "## Load the test dataset for submission"
   ]
  },
  {
   "cell_type": "code",
   "execution_count": 34,
   "metadata": {
    "colab": {
     "base_uri": "https://localhost:8080/",
     "height": 71,
     "resources": {
      "http://localhost:8080/nbextensions/google.colab/files.js": {
       "data": "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",
       "headers": [
        [
         "content-type",
         "application/javascript"
        ]
       ],
       "ok": true,
       "status": 200,
       "status_text": ""
      }
     }
    },
    "colab_type": "code",
    "id": "SmlO0VhSx5bK",
    "outputId": "4c6086dc-c33e-4c92-9db7-b2253b363ea5"
   },
   "outputs": [
    {
     "data": {
      "text/html": [
       "\n",
       "     <input type=\"file\" id=\"files-948072b5-9b84-47a8-9e58-719d02031594\" name=\"files[]\" multiple disabled />\n",
       "     <output id=\"result-948072b5-9b84-47a8-9e58-719d02031594\">\n",
       "      Upload widget is only available when the cell has been executed in the\n",
       "      current browser session. Please rerun this cell to enable.\n",
       "      </output>\n",
       "      <script src=\"/nbextensions/google.colab/files.js\"></script> "
      ],
      "text/plain": [
       "<IPython.core.display.HTML object>"
      ]
     },
     "metadata": {
      "tags": []
     },
     "output_type": "display_data"
    },
    {
     "name": "stdout",
     "output_type": "stream",
     "text": [
      "Saving testset-taska.tsv to testset-taska (2).tsv\n"
     ]
    }
   ],
   "source": [
    "from google.colab import files\n",
    "test_a = files.upload()"
   ]
  },
  {
   "cell_type": "code",
   "execution_count": 35,
   "metadata": {
    "colab": {
     "base_uri": "https://localhost:8080/",
     "height": 221
    },
    "colab_type": "code",
    "id": "Q5N0stUIyAkG",
    "outputId": "45e9b8e3-cdb3-4d5d-d2ac-47682026d7f4"
   },
   "outputs": [
    {
     "name": "stdout",
     "output_type": "stream",
     "text": [
      "(860, 2)\n"
     ]
    },
    {
     "data": {
      "text/html": [
       "<div>\n",
       "<style scoped>\n",
       "    .dataframe tbody tr th:only-of-type {\n",
       "        vertical-align: middle;\n",
       "    }\n",
       "\n",
       "    .dataframe tbody tr th {\n",
       "        vertical-align: top;\n",
       "    }\n",
       "\n",
       "    .dataframe thead th {\n",
       "        text-align: right;\n",
       "    }\n",
       "</style>\n",
       "<table border=\"1\" class=\"dataframe\">\n",
       "  <thead>\n",
       "    <tr style=\"text-align: right;\">\n",
       "      <th></th>\n",
       "      <th>id</th>\n",
       "      <th>tweet</th>\n",
       "    </tr>\n",
       "  </thead>\n",
       "  <tbody>\n",
       "    <tr>\n",
       "      <th>0</th>\n",
       "      <td>15923</td>\n",
       "      <td>#WhoIsQ #WheresTheServer #DumpNike #DECLASFISA...</td>\n",
       "    </tr>\n",
       "    <tr>\n",
       "      <th>1</th>\n",
       "      <td>27014</td>\n",
       "      <td>#ConstitutionDay is revered by Conservatives, ...</td>\n",
       "    </tr>\n",
       "    <tr>\n",
       "      <th>2</th>\n",
       "      <td>30530</td>\n",
       "      <td>#FOXNews #NRA #MAGA #POTUS #TRUMP #2ndAmendmen...</td>\n",
       "    </tr>\n",
       "    <tr>\n",
       "      <th>3</th>\n",
       "      <td>13876</td>\n",
       "      <td>#Watching #Boomer getting the news that she is...</td>\n",
       "    </tr>\n",
       "    <tr>\n",
       "      <th>4</th>\n",
       "      <td>60133</td>\n",
       "      <td>#NoPasaran: Unity demo to oppose the far-right...</td>\n",
       "    </tr>\n",
       "  </tbody>\n",
       "</table>\n",
       "</div>"
      ],
      "text/plain": [
       "      id                                              tweet\n",
       "0  15923  #WhoIsQ #WheresTheServer #DumpNike #DECLASFISA...\n",
       "1  27014  #ConstitutionDay is revered by Conservatives, ...\n",
       "2  30530  #FOXNews #NRA #MAGA #POTUS #TRUMP #2ndAmendmen...\n",
       "3  13876  #Watching #Boomer getting the news that she is...\n",
       "4  60133  #NoPasaran: Unity demo to oppose the far-right..."
      ]
     },
     "execution_count": 35,
     "metadata": {
      "tags": []
     },
     "output_type": "execute_result"
    }
   ],
   "source": [
    "df_sub_a = pd.read_csv(io.StringIO(test_a[\"testset-taska.tsv\"].decode('utf-8')),  sep = \"\\t\")\n",
    "print(df_sub_a.shape)\n",
    "df_sub_a.head()"
   ]
  },
  {
   "cell_type": "markdown",
   "metadata": {
    "colab_type": "text",
    "id": "X83dOr8HODTB"
   },
   "source": [
    "##  Preproceessing from a raw dataframe to a preprocessed dataframe"
   ]
  },
  {
   "cell_type": "code",
   "execution_count": 36,
   "metadata": {
    "colab": {
     "base_uri": "https://localhost:8080/",
     "height": 289
    },
    "colab_type": "code",
    "id": "7KWjFIxwyMFZ",
    "outputId": "1c443f0f-fd43-4abc-81c5-4167938009c8"
   },
   "outputs": [
    {
     "name": "stderr",
     "output_type": "stream",
     "text": [
      "/usr/local/lib/python3.6/dist-packages/pandas/core/frame.py:3027: SettingWithCopyWarning: \n",
      "A value is trying to be set on a copy of a slice from a DataFrame\n",
      "\n",
      "See the caveats in the documentation: http://pandas.pydata.org/pandas-docs/stable/indexing.html#indexing-view-versus-copy\n",
      "  return super(DataFrame, self).rename(**kwargs)\n"
     ]
    },
    {
     "data": {
      "text/html": [
       "<div>\n",
       "<style scoped>\n",
       "    .dataframe tbody tr th:only-of-type {\n",
       "        vertical-align: middle;\n",
       "    }\n",
       "\n",
       "    .dataframe tbody tr th {\n",
       "        vertical-align: top;\n",
       "    }\n",
       "\n",
       "    .dataframe thead th {\n",
       "        text-align: right;\n",
       "    }\n",
       "</style>\n",
       "<table border=\"1\" class=\"dataframe\">\n",
       "  <thead>\n",
       "    <tr style=\"text-align: right;\">\n",
       "      <th></th>\n",
       "      <th>id</th>\n",
       "      <th>tweet</th>\n",
       "      <th>tweet_lemma</th>\n",
       "    </tr>\n",
       "  </thead>\n",
       "  <tbody>\n",
       "    <tr>\n",
       "      <th>0</th>\n",
       "      <td>15923</td>\n",
       "      <td>[whoisq, wherestheserver, dumpnike, declasfisa...</td>\n",
       "      <td>[whoisq, wherestheserver, dumpnike, declasfisa...</td>\n",
       "    </tr>\n",
       "    <tr>\n",
       "      <th>1</th>\n",
       "      <td>27014</td>\n",
       "      <td>[constitutionday, revered, conservatives, hate...</td>\n",
       "      <td>[constitutionday, revered, conservative, hated...</td>\n",
       "    </tr>\n",
       "    <tr>\n",
       "      <th>2</th>\n",
       "      <td>30530</td>\n",
       "      <td>[foxnews, nra, maga, potus, trump, ndamendment...</td>\n",
       "      <td>[foxnews, nra, maga, potus, trump, ndamendment...</td>\n",
       "    </tr>\n",
       "    <tr>\n",
       "      <th>3</th>\n",
       "      <td>13876</td>\n",
       "      <td>[watching, boomer, getting, news, still, parol...</td>\n",
       "      <td>[watching, boomer, getting, news, still, parol...</td>\n",
       "    </tr>\n",
       "    <tr>\n",
       "      <th>4</th>\n",
       "      <td>60133</td>\n",
       "      <td>[nopasaran, unity, demo, oppose, farright, lon...</td>\n",
       "      <td>[nopasaran, unity, demo, oppose, farright, lon...</td>\n",
       "    </tr>\n",
       "  </tbody>\n",
       "</table>\n",
       "</div>"
      ],
      "text/plain": [
       "      id                                              tweet  \\\n",
       "0  15923  [whoisq, wherestheserver, dumpnike, declasfisa...   \n",
       "1  27014  [constitutionday, revered, conservatives, hate...   \n",
       "2  30530  [foxnews, nra, maga, potus, trump, ndamendment...   \n",
       "3  13876  [watching, boomer, getting, news, still, parol...   \n",
       "4  60133  [nopasaran, unity, demo, oppose, farright, lon...   \n",
       "\n",
       "                                         tweet_lemma  \n",
       "0  [whoisq, wherestheserver, dumpnike, declasfisa...  \n",
       "1  [constitutionday, revered, conservative, hated...  \n",
       "2  [foxnews, nra, maga, potus, trump, ndamendment...  \n",
       "3  [watching, boomer, getting, news, still, parol...  \n",
       "4  [nopasaran, unity, demo, oppose, farright, lon...  "
      ]
     },
     "execution_count": 36,
     "metadata": {
      "tags": []
     },
     "output_type": "execute_result"
    }
   ],
   "source": [
    "def preprocessing_df(dataframe, label):\n",
    "  # Remove punctuation, digits and some special characters\n",
    "  df_prep = dataframe.copy()\n",
    "  df_prep['preprocessed_tweet'] = df_prep[label].str.lower()\n",
    "  df_prep['preprocessed_tweet'] = df_prep['preprocessed_tweet'].str.replace('&amp;', '&')\n",
    "  df_prep['preprocessed_tweet'] = df_prep['preprocessed_tweet'].str.replace('[{}]'.format(string.punctuation), '')\n",
    "  df_prep['preprocessed_tweet'] = df_prep['preprocessed_tweet'].str.replace('[“”’—]', ' ')\n",
    "  df_prep['preprocessed_tweet'] = df_prep['preprocessed_tweet'].str.replace('\\d+', '') # Remove digits\n",
    "  df_prep = replace_words(df_prep, 'preprocessed_tweet')\n",
    "  \n",
    "  # Tokenisation\n",
    "  token_df = df_prep.copy()\n",
    "  token_df['token_tweet'] = token_df.preprocessed_tweet.apply(lambda x: x.split())\n",
    "  \n",
    "  # Remove stopwords\n",
    "  token_df['token_tweet_stop'] = token_df['token_tweet'].apply(lambda x: [item for item in x if item not in mystopwords])\n",
    "  \n",
    "  \n",
    "  sub_token_df = token_df[['id', 'token_tweet_stop']]#, 'subtask_a', 'subtask_b', 'subtask_c']]\n",
    "  sub_token_df.rename(columns = {'token_tweet_stop':'tweet'}, inplace = True)\n",
    "  \n",
    "  return sub_token_df\n",
    "\n",
    "\n",
    "# Preprocessing\n",
    "df_test_a = preprocessing_df(df_sub_a, 'tweet')\n",
    "\n",
    "# Lemmatisation\n",
    "df_test_a = lemmatisation(df_test_a, 'tweet', False)\n",
    "\n",
    "df_test_a.head()"
   ]
  },
  {
   "cell_type": "markdown",
   "metadata": {
    "colab_type": "text",
    "id": "9IIwmtXsOTDO"
   },
   "source": [
    "## Transform the test dataframe into an input for the neural network"
   ]
  },
  {
   "cell_type": "code",
   "execution_count": 37,
   "metadata": {
    "colab": {
     "base_uri": "https://localhost:8080/",
     "height": 51
    },
    "colab_type": "code",
    "id": "snYRKK-m151f",
    "outputId": "fc4f46da-2388-4291-e533-1265f8a819aa"
   },
   "outputs": [
    {
     "name": "stdout",
     "output_type": "stream",
     "text": [
      "0\n",
      "torch.Size([860, 79])\n"
     ]
    }
   ],
   "source": [
    "def get_model_inputs_test(dataframe, word2idx, column, max_len):\n",
    "  data = dataframe.copy()\n",
    "  \n",
    "  data['index_tweet'] = data[column].apply(lambda x: [word2idx[tok] for tok in x if tok in word2idx])\n",
    "  \n",
    "  data_tensor = Variable(torch.zeros((len(dataframe), max_len))).long()\n",
    "  \n",
    "  tweet_lengths = list(data['index_tweet'].map(len).values)\n",
    "  \n",
    "  for idx, (indices, tweet) in enumerate(zip(data['index_tweet'], tweet_lengths)):\n",
    "    if idx % 1000 == 0:\n",
    "      print(idx)\n",
    "\n",
    "    data_tensor[idx, :tweet] = torch.LongTensor(indices)\n",
    "  \n",
    "  return data_tensor\n",
    "\n",
    "test_a_input = get_model_inputs_test(df_test_a, word2idx, 'tweet_lemma', max_len_tweet)\n",
    "print(test_a_input.shape)"
   ]
  },
  {
   "cell_type": "markdown",
   "metadata": {
    "colab_type": "text",
    "id": "GWTkVLpiOot9"
   },
   "source": [
    "## Predict the labels with the model trained on the whole training data"
   ]
  },
  {
   "cell_type": "code",
   "execution_count": 38,
   "metadata": {
    "colab": {
     "base_uri": "https://localhost:8080/",
     "height": 173
    },
    "colab_type": "code",
    "id": "OTRBBWhf2fuv",
    "outputId": "6b2da79b-65e2-487e-8173-4b97ed114ef3"
   },
   "outputs": [
    {
     "data": {
      "text/html": [
       "<div>\n",
       "<style scoped>\n",
       "    .dataframe tbody tr th:only-of-type {\n",
       "        vertical-align: middle;\n",
       "    }\n",
       "\n",
       "    .dataframe tbody tr th {\n",
       "        vertical-align: top;\n",
       "    }\n",
       "\n",
       "    .dataframe thead th {\n",
       "        text-align: right;\n",
       "    }\n",
       "</style>\n",
       "<table border=\"1\" class=\"dataframe\">\n",
       "  <thead>\n",
       "    <tr style=\"text-align: right;\">\n",
       "      <th></th>\n",
       "      <th>class</th>\n",
       "    </tr>\n",
       "  </thead>\n",
       "  <tbody>\n",
       "    <tr>\n",
       "      <th>count</th>\n",
       "      <td>860</td>\n",
       "    </tr>\n",
       "    <tr>\n",
       "      <th>unique</th>\n",
       "      <td>2</td>\n",
       "    </tr>\n",
       "    <tr>\n",
       "      <th>top</th>\n",
       "      <td>NOT</td>\n",
       "    </tr>\n",
       "    <tr>\n",
       "      <th>freq</th>\n",
       "      <td>711</td>\n",
       "    </tr>\n",
       "  </tbody>\n",
       "</table>\n",
       "</div>"
      ],
      "text/plain": [
       "       class\n",
       "count    860\n",
       "unique     2\n",
       "top      NOT\n",
       "freq     711"
      ]
     },
     "execution_count": 38,
     "metadata": {
      "tags": []
     },
     "output_type": "execute_result"
    }
   ],
   "source": [
    "with torch.no_grad():\n",
    "    predictions_task_a = model_a(test_a_input).squeeze(1)\n",
    "\n",
    "y_pred = predict(predictions_task_a)\n",
    "y_pred['class'] = 'NOT'\n",
    "y_pred.loc[y_pred['pred'] == 1, 'class'] = 'OFF'\n",
    "\n",
    "y_pred.describe(include = ['O'])"
   ]
  },
  {
   "cell_type": "markdown",
   "metadata": {
    "colab_type": "text",
    "id": "is31bjQROksZ"
   },
   "source": [
    "## Export the predictions in the required format for submission"
   ]
  },
  {
   "cell_type": "code",
   "execution_count": 39,
   "metadata": {
    "colab": {
     "base_uri": "https://localhost:8080/",
     "height": 34
    },
    "colab_type": "code",
    "id": "9JNitpLX3dhT",
    "outputId": "5f46aff5-5501-40ca-c84a-0e9288f29157"
   },
   "outputs": [
    {
     "name": "stdout",
     "output_type": "stream",
     "text": [
      "(860, 2)\n"
     ]
    }
   ],
   "source": [
    "def submission(data, pred):\n",
    "    df = data.copy()\n",
    "    df['pred'] = pred['class']\n",
    "    return df[['id', 'pred']]\n",
    "\n",
    "subtask_a = submission(df_test_a, y_pred)\n",
    "print(subtask_a.shape)\n",
    "subtask_a.to_csv(\"result_subtask_a.csv\", index = False, header = False)"
   ]
  },
  {
   "cell_type": "code",
   "execution_count": 0,
   "metadata": {
    "colab": {},
    "colab_type": "code",
    "id": "5xonX8cv582V"
   },
   "outputs": [],
   "source": [
    "files.download('result_subtask_a.csv')"
   ]
  },
  {
   "cell_type": "markdown",
   "metadata": {
    "colab_type": "text",
    "id": "tfD9AgtnvcME"
   },
   "source": [
    "# Sub-task B"
   ]
  },
  {
   "cell_type": "markdown",
   "metadata": {
    "colab_type": "text",
    "id": "GxI8sGtjO4jR"
   },
   "source": [
    "## Remove non offensive tweets"
   ]
  },
  {
   "cell_type": "code",
   "execution_count": 40,
   "metadata": {
    "colab": {
     "base_uri": "https://localhost:8080/",
     "height": 136
    },
    "colab_type": "code",
    "id": "RijJaoR4vcMF",
    "outputId": "5cf2d8f2-7f9a-43ca-a546-1fb6599d6e39"
   },
   "outputs": [
    {
     "name": "stdout",
     "output_type": "stream",
     "text": [
      "(13240, 3)\n",
      "(4400, 3)\n"
     ]
    },
    {
     "name": "stderr",
     "output_type": "stream",
     "text": [
      "/usr/local/lib/python3.6/dist-packages/pandas/core/frame.py:3027: SettingWithCopyWarning: \n",
      "A value is trying to be set on a copy of a slice from a DataFrame\n",
      "\n",
      "See the caveats in the documentation: http://pandas.pydata.org/pandas-docs/stable/indexing.html#indexing-view-versus-copy\n",
      "  return super(DataFrame, self).rename(**kwargs)\n"
     ]
    }
   ],
   "source": [
    "fin_df_b = sub_token_df[['id', 'tweet_lemma', 'subtask_b']]\n",
    "fin_df_b.rename(columns = {'tweet_lemma':'tweet'}, inplace = True)\n",
    "print(fin_df_b.shape)\n",
    "\n",
    "fin_df_b_fil =fin_df_b.dropna()\n",
    "print(fin_df_b_fil.shape) # 4400"
   ]
  },
  {
   "cell_type": "markdown",
   "metadata": {
    "colab_type": "text",
    "id": "83O8A-2tPEzt"
   },
   "source": [
    "## Split the data for sub-task B into three datasets"
   ]
  },
  {
   "cell_type": "code",
   "execution_count": 41,
   "metadata": {
    "colab": {
     "base_uri": "https://localhost:8080/",
     "height": 255
    },
    "colab_type": "code",
    "id": "8VULd-nkvcMG",
    "outputId": "f74b2a09-6dab-4324-922a-dc919569987d"
   },
   "outputs": [
    {
     "name": "stdout",
     "output_type": "stream",
     "text": [
      "(2640, 3)\n",
      "(880, 3)\n",
      "(880, 3)\n"
     ]
    },
    {
     "data": {
      "text/html": [
       "<div>\n",
       "<style scoped>\n",
       "    .dataframe tbody tr th:only-of-type {\n",
       "        vertical-align: middle;\n",
       "    }\n",
       "\n",
       "    .dataframe tbody tr th {\n",
       "        vertical-align: top;\n",
       "    }\n",
       "\n",
       "    .dataframe thead th {\n",
       "        text-align: right;\n",
       "    }\n",
       "</style>\n",
       "<table border=\"1\" class=\"dataframe\">\n",
       "  <thead>\n",
       "    <tr style=\"text-align: right;\">\n",
       "      <th></th>\n",
       "      <th>id</th>\n",
       "      <th>tweet</th>\n",
       "      <th>subtask_b</th>\n",
       "    </tr>\n",
       "  </thead>\n",
       "  <tbody>\n",
       "    <tr>\n",
       "      <th>7981</th>\n",
       "      <td>70376</td>\n",
       "      <td>[user, user, inciting, violence, via, twitter,...</td>\n",
       "      <td>TIN</td>\n",
       "    </tr>\n",
       "    <tr>\n",
       "      <th>721</th>\n",
       "      <td>89795</td>\n",
       "      <td>[user, angela, hook, younger, guy, someone, wi...</td>\n",
       "      <td>TIN</td>\n",
       "    </tr>\n",
       "    <tr>\n",
       "      <th>6971</th>\n",
       "      <td>16743</td>\n",
       "      <td>[user, today, collins, back, another, excuse, ...</td>\n",
       "      <td>TIN</td>\n",
       "    </tr>\n",
       "    <tr>\n",
       "      <th>6205</th>\n",
       "      <td>98434</td>\n",
       "      <td>[user, holy, shit, way]</td>\n",
       "      <td>UNT</td>\n",
       "    </tr>\n",
       "    <tr>\n",
       "      <th>2932</th>\n",
       "      <td>95210</td>\n",
       "      <td>[good, job, assholeyou, killed, dad, chance, g...</td>\n",
       "      <td>TIN</td>\n",
       "    </tr>\n",
       "  </tbody>\n",
       "</table>\n",
       "</div>"
      ],
      "text/plain": [
       "         id                                              tweet subtask_b\n",
       "7981  70376  [user, user, inciting, violence, via, twitter,...       TIN\n",
       "721   89795  [user, angela, hook, younger, guy, someone, wi...       TIN\n",
       "6971  16743  [user, today, collins, back, another, excuse, ...       TIN\n",
       "6205  98434                            [user, holy, shit, way]       UNT\n",
       "2932  95210  [good, job, assholeyou, killed, dad, chance, g...       TIN"
      ]
     },
     "execution_count": 41,
     "metadata": {
      "tags": []
     },
     "output_type": "execute_result"
    }
   ],
   "source": [
    "# Train Test Val Split: 80-20-20\n",
    "df_train, df_test = train_test_split(fin_df_b_fil, test_size = 0.2, random_state = 24)\n",
    "df_train, df_val = train_test_split(df_train, test_size = 0.25, random_state = 24)\n",
    "print(df_train.shape)\n",
    "print(df_val.shape)\n",
    "print(df_test.shape)\n",
    "df_train.head()"
   ]
  },
  {
   "cell_type": "markdown",
   "metadata": {
    "colab_type": "text",
    "id": "GZsnDcKnPM5D"
   },
   "source": [
    "## Transform the given data into an input for the neural network"
   ]
  },
  {
   "cell_type": "code",
   "execution_count": 42,
   "metadata": {
    "colab": {
     "base_uri": "https://localhost:8080/",
     "height": 85
    },
    "colab_type": "code",
    "id": "30O2nIuqvyTl",
    "outputId": "3f222be7-cb45-48ec-c3dc-ee40f2df2462"
   },
   "outputs": [
    {
     "name": "stdout",
     "output_type": "stream",
     "text": [
      "0\n",
      "1000\n",
      "2000\n",
      "torch.Size([2640, 79])\n"
     ]
    }
   ],
   "source": [
    "def get_model_inputs_b(dataframe, word2idx, column, target, max_len):\n",
    "    # Input\n",
    "    data = dataframe.copy()\n",
    "    data['index_tweet'] = data.tweet.apply(lambda x: [word2idx[tok] for tok in x if tok in word2idx])\n",
    "\n",
    "    data_tensor = Variable(torch.zeros((len(dataframe), max_len))).long()\n",
    "\n",
    "    tweet_lengths = list(data['index_tweet'].map(len).values)\n",
    "\n",
    "    for idx, (indices, tweet) in enumerate(zip(data['index_tweet'], tweet_lengths)):\n",
    "        if idx % 1000 == 0:\n",
    "            print(idx)\n",
    "        data_tensor[idx, :tweet] = torch.LongTensor(indices)\n",
    "\n",
    "    # Labels\n",
    "    labels = dataframe[target].copy()\n",
    "    labels[labels == 'TIN'] = 1.\n",
    "    labels[labels == 'UNT'] = 0.\n",
    "    labels_val = labels.values.astype(dtype = 'float32')\n",
    "    label_tensor = torch.from_numpy(labels_val)\n",
    "\n",
    "    return data_tensor, label_tensor\n",
    "\n",
    "train_data_tensor, train_label_tensor = get_model_inputs_b(df_train, word2idx, 'tweet', 'subtask_b', max_len_tweet)\n",
    "\n",
    "print(train_data_tensor.shape)"
   ]
  },
  {
   "cell_type": "code",
   "execution_count": 43,
   "metadata": {
    "colab": {
     "base_uri": "https://localhost:8080/",
     "height": 51
    },
    "colab_type": "code",
    "id": "d2TJUPvUvybS",
    "outputId": "38f82671-186d-4e8a-8c62-b0943eed6039"
   },
   "outputs": [
    {
     "name": "stdout",
     "output_type": "stream",
     "text": [
      "0\n",
      "0\n"
     ]
    }
   ],
   "source": [
    "# Validation\n",
    "val_data_tensor, val_label_tensor = get_model_inputs_b(df_val, word2idx, 'tweet', 'subtask_b', max_len_tweet)\n",
    "\n",
    "# Testing\n",
    "test_data_tensor, test_label_tensor = get_model_inputs_b(df_test, word2idx, 'tweet', 'subtask_b', max_len_tweet)"
   ]
  },
  {
   "cell_type": "code",
   "execution_count": 44,
   "metadata": {
    "colab": {
     "base_uri": "https://localhost:8080/",
     "height": 34
    },
    "colab_type": "code",
    "id": "NmNwyRjMwzJO",
    "outputId": "1db2e2b8-f96a-40e4-9b6a-a12a80d4de82"
   },
   "outputs": [
    {
     "name": "stdout",
     "output_type": "stream",
     "text": [
      "torch.Size([2640, 79])\n"
     ]
    }
   ],
   "source": [
    "# Transform the training data into a Pytorch DataLoader object\n",
    "# Data loading\n",
    "batch_size = 15 #75\n",
    "\n",
    "# Training\n",
    "print(train_data_tensor.shape)\n",
    "train_data = TensorDataset(train_data_tensor, train_label_tensor)\n",
    "train_dl = DataLoader(train_data, batch_size = batch_size)"
   ]
  },
  {
   "cell_type": "markdown",
   "metadata": {
    "colab_type": "text",
    "id": "IyPtP9BCPsr4"
   },
   "source": [
    "## Training the neural network"
   ]
  },
  {
   "cell_type": "code",
   "execution_count": 45,
   "metadata": {
    "colab": {
     "base_uri": "https://localhost:8080/",
     "height": 374
    },
    "colab_type": "code",
    "id": "ZV0EjXAfwzM2",
    "outputId": "64128814-833c-422b-e241-3d41ba772bc2"
   },
   "outputs": [
    {
     "name": "stdout",
     "output_type": "stream",
     "text": [
      "| Epoch: 01 | Train Loss: 0.466 | Train Acc: 80.00% | Val. Loss: 0.371 | Val. Acc: 87.39% |\n",
      "| Epoch: 02 | Train Loss: 0.646 | Train Acc: 73.33% | Val. Loss: 0.365 | Val. Acc: 87.39% |\n",
      "| Epoch: 03 | Train Loss: 0.551 | Train Acc: 80.00% | Val. Loss: 0.361 | Val. Acc: 87.27% |\n",
      "| Epoch: 04 | Train Loss: 0.522 | Train Acc: 80.00% | Val. Loss: 0.371 | Val. Acc: 87.39% |\n",
      "| Epoch: 05 | Train Loss: 0.420 | Train Acc: 80.00% | Val. Loss: 0.364 | Val. Acc: 87.50% |\n",
      "| Epoch: 06 | Train Loss: 0.424 | Train Acc: 80.00% | Val. Loss: 0.365 | Val. Acc: 86.93% |\n",
      "| Epoch: 07 | Train Loss: 0.383 | Train Acc: 80.00% | Val. Loss: 0.367 | Val. Acc: 87.27% |\n",
      "| Epoch: 08 | Train Loss: 0.497 | Train Acc: 80.00% | Val. Loss: 0.376 | Val. Acc: 87.05% |\n",
      "| Epoch: 09 | Train Loss: 0.408 | Train Acc: 73.33% | Val. Loss: 0.391 | Val. Acc: 86.82% |\n",
      "| Epoch: 10 | Train Loss: 0.473 | Train Acc: 73.33% | Val. Loss: 0.387 | Val. Acc: 86.93% |\n",
      "| Epoch: 11 | Train Loss: 0.231 | Train Acc: 86.67% | Val. Loss: 0.393 | Val. Acc: 86.70% |\n",
      "| Epoch: 12 | Train Loss: 0.468 | Train Acc: 80.00% | Val. Loss: 0.398 | Val. Acc: 86.82% |\n",
      "| Epoch: 13 | Train Loss: 0.542 | Train Acc: 80.00% | Val. Loss: 0.419 | Val. Acc: 87.16% |\n",
      "| Epoch: 14 | Train Loss: 0.395 | Train Acc: 86.67% | Val. Loss: 0.438 | Val. Acc: 87.16% |\n",
      "| Epoch: 15 | Train Loss: 0.285 | Train Acc: 86.67% | Val. Loss: 0.435 | Val. Acc: 86.70% |\n",
      "| Epoch: 16 | Train Loss: 0.388 | Train Acc: 80.00% | Val. Loss: 0.449 | Val. Acc: 86.70% |\n",
      "| Epoch: 17 | Train Loss: 0.640 | Train Acc: 80.00% | Val. Loss: 0.442 | Val. Acc: 86.59% |\n",
      "| Epoch: 18 | Train Loss: 0.507 | Train Acc: 73.33% | Val. Loss: 0.453 | Val. Acc: 86.14% |\n",
      "| Epoch: 19 | Train Loss: 0.243 | Train Acc: 93.33% | Val. Loss: 0.472 | Val. Acc: 86.70% |\n",
      "| Epoch: 20 | Train Loss: 0.202 | Train Acc: 93.33% | Val. Loss: 0.483 | Val. Acc: 86.70% |\n",
      "F_score on the validation set: 0.9283527250459278\n"
     ]
    }
   ],
   "source": [
    "# Binary classification\n",
    "output_dim = 1\n",
    "\n",
    "# Variables for the SDG\n",
    "# Learning rate\n",
    "lr = 0.05 #0.01\n",
    "\n",
    "# Momentum\n",
    "momentum = 0.5\n",
    "\n",
    "# Neural network\n",
    "model, train_loss_history, val_loss_history = train(train_dl, val_data_tensor, \n",
    "                                                    val_label_tensor, lr, epochs, input_dim, embedding_dim, \n",
    "                                                    n_out_channels, window_size, output_dim, dropout, \n",
    "                                                    momentum)"
   ]
  },
  {
   "cell_type": "markdown",
   "metadata": {
    "colab_type": "text",
    "id": "aUaESMN5Qbln"
   },
   "source": [
    "## Plot the training and validation loss"
   ]
  },
  {
   "cell_type": "code",
   "execution_count": 46,
   "metadata": {
    "colab": {
     "base_uri": "https://localhost:8080/",
     "height": 296
    },
    "colab_type": "code",
    "id": "kRdIxqeAmqfj",
    "outputId": "c13bf7bb-30fb-49e8-f68f-d625bec68f7a"
   },
   "outputs": [
    {
     "name": "stdout",
     "output_type": "stream",
     "text": [
      "20 20\n"
     ]
    },
    {
     "data": {
      "image/png": "[encoded data removed]",
      "text/plain": [
       "<Figure size 432x288 with 1 Axes>"
      ]
     },
     "metadata": {
      "tags": []
     },
     "output_type": "display_data"
    }
   ],
   "source": [
    "print(len(train_loss_history), len(val_loss_history))\n",
    "plot_loss_curves(train_loss_history, val_loss_history)"
   ]
  },
  {
   "cell_type": "markdown",
   "metadata": {
    "colab_type": "text",
    "id": "TqiER1vtQkF3"
   },
   "source": [
    "## Grid search for hyperparameter tuning"
   ]
  },
  {
   "cell_type": "code",
   "execution_count": 58,
   "metadata": {
    "colab": {
     "base_uri": "https://localhost:8080/",
     "height": 731
    },
    "colab_type": "code",
    "id": "YY8Lehd-oYrK",
    "outputId": "487463e9-1972-415a-dec1-5cc648d2c707"
   },
   "outputs": [
    {
     "name": "stdout",
     "output_type": "stream",
     "text": [
      "Learning rate: 0.5 \tMomentum: 0\n",
      "It takes 97.347951 seconds for a learning rate of 0.5 and a momentum of 0.\n",
      "Learning rate: 0.5 \tMomentum: 0.3\n"
     ]
    },
    {
     "name": "stderr",
     "output_type": "stream",
     "text": [
      "/usr/local/lib/python3.6/dist-packages/ipykernel_launcher.py:21: RuntimeWarning: invalid value encountered in true_divide\n"
     ]
    },
    {
     "name": "stdout",
     "output_type": "stream",
     "text": [
      "It takes 109.555528 seconds for a learning rate of 0.5 and a momentum of 0.3.\n",
      "Learning rate: 0.5 \tMomentum: 0.5\n",
      "It takes 102.544417 seconds for a learning rate of 0.5 and a momentum of 0.5.\n",
      "Learning rate: 0.5 \tMomentum: 0.9\n",
      "It takes 106.038599 seconds for a learning rate of 0.5 and a momentum of 0.9.\n",
      "Learning rate: 0.3 \tMomentum: 0\n",
      "It takes 86.729223 seconds for a learning rate of 0.3 and a momentum of 0.\n",
      "Learning rate: 0.3 \tMomentum: 0.3\n",
      "It takes 112.463213 seconds for a learning rate of 0.3 and a momentum of 0.3.\n",
      "Learning rate: 0.3 \tMomentum: 0.5\n",
      "It takes 104.179766 seconds for a learning rate of 0.3 and a momentum of 0.5.\n",
      "Learning rate: 0.3 \tMomentum: 0.9\n",
      "It takes 109.030890 seconds for a learning rate of 0.3 and a momentum of 0.9.\n",
      "Learning rate: 0.1 \tMomentum: 0\n",
      "It takes 85.874569 seconds for a learning rate of 0.1 and a momentum of 0.\n",
      "Learning rate: 0.1 \tMomentum: 0.3\n",
      "It takes 111.868499 seconds for a learning rate of 0.1 and a momentum of 0.3.\n",
      "Learning rate: 0.1 \tMomentum: 0.5\n",
      "It takes 65.204316 seconds for a learning rate of 0.1 and a momentum of 0.5.\n",
      "Learning rate: 0.1 \tMomentum: 0.9\n",
      "It takes 59.222221 seconds for a learning rate of 0.1 and a momentum of 0.9.\n",
      "Learning rate: 0.05 \tMomentum: 0\n",
      "It takes 77.315659 seconds for a learning rate of 0.05 and a momentum of 0.\n",
      "Learning rate: 0.05 \tMomentum: 0.3\n",
      "It takes 62.633988 seconds for a learning rate of 0.05 and a momentum of 0.3.\n",
      "Learning rate: 0.05 \tMomentum: 0.5\n",
      "It takes 58.019843 seconds for a learning rate of 0.05 and a momentum of 0.5.\n",
      "Learning rate: 0.05 \tMomentum: 0.9\n",
      "It takes 75.266428 seconds for a learning rate of 0.05 and a momentum of 0.9.\n",
      "Learning rate: 0.01 \tMomentum: 0\n",
      "It takes 80.268466 seconds for a learning rate of 0.01 and a momentum of 0.\n",
      "Learning rate: 0.01 \tMomentum: 0.3\n",
      "It takes 62.001731 seconds for a learning rate of 0.01 and a momentum of 0.3.\n",
      "Learning rate: 0.01 \tMomentum: 0.5\n",
      "It takes 58.672524 seconds for a learning rate of 0.01 and a momentum of 0.5.\n",
      "Learning rate: 0.01 \tMomentum: 0.9\n",
      "It takes 58.717772 seconds for a learning rate of 0.01 and a momentum of 0.9.\n"
     ]
    },
    {
     "data": {
      "text/plain": [
       "([0.01, 0], 0.9326864766525167)"
      ]
     },
     "execution_count": 58,
     "metadata": {
      "tags": []
     },
     "output_type": "execute_result"
    }
   ],
   "source": [
    "def grid_search():\n",
    "\n",
    "    # Set random seeds for reproducible results\n",
    "    torch.manual_seed(24)\n",
    "    lr = [0.5, 0.3, 0.1, 0.05, 0.01]#, 0.005, 0.0001]\n",
    "    momentum = [0, 0.3, 0.5, 0.9]\n",
    "    parameters = [lr, momentum]\n",
    "\n",
    "    best_f_score = 0 # Initialisation\n",
    "    best_params = [None, None]\n",
    "\n",
    "    # Set seed for reproducible results\n",
    "    torch.manual_seed(24)\n",
    "\n",
    "    for param1 in parameters[0]:\n",
    "        for param2 in parameters[1]:\n",
    "            start = time.time()\n",
    "            print('Learning rate:', param1, '\\tMomentum:', param2)\n",
    "\n",
    "            # Create the neural network\n",
    "            model = CNN(input_dim, embedding_dim, n_out_channels, window_size, output_dim, dropout)\n",
    "\n",
    "            #model.embedding.weight.data.copy_(torch.from_numpy(wvecs))\n",
    "\n",
    "            optimizer = optim.SGD(model.parameters(), lr = param1, momentum = param2)\n",
    "            loss_func = nn.BCEWithLogitsLoss()\n",
    "\n",
    "            for epoch in range(1, epochs+1):\n",
    "                # Training\n",
    "                model.train()\n",
    "                epoch_loss, epoch_acc = train_batch(model, optimizer, train_dl, loss_func)\n",
    "\n",
    "                # On the validation dataset\n",
    "                model.eval()\n",
    "                predictions_valid, valid_loss, valid_acc = evaluation(model, val_data_tensor, val_label_tensor, loss_func)\n",
    "\n",
    "            with torch.no_grad():\n",
    "                f_score = f_measure(predictions_valid, val_label_tensor, False)\n",
    "\n",
    "            if f_score > best_f_score:\n",
    "                best_f_score = f_score\n",
    "                best_params[0], best_params[1] = param1, param2\n",
    "\n",
    "            duration = time.time() - start\n",
    "            print('It takes {0:.6f} seconds for a learning rate of {1} and a momentum of {2}.'.format(duration, param1, param2))\n",
    "\n",
    "    return best_params, best_f_score\n",
    "\n",
    "grid_search()"
   ]
  },
  {
   "cell_type": "markdown",
   "metadata": {
    "colab_type": "text",
    "id": "PlIp9JAWQuxh"
   },
   "source": [
    "## Performance on the test dataset"
   ]
  },
  {
   "cell_type": "code",
   "execution_count": 47,
   "metadata": {
    "colab": {
     "base_uri": "https://localhost:8080/",
     "height": 85
    },
    "colab_type": "code",
    "id": "pChquu8hxfgH",
    "outputId": "4788f0ce-83f9-4efa-a1ac-4011f8fdca2f"
   },
   "outputs": [
    {
     "name": "stdout",
     "output_type": "stream",
     "text": [
      "torch.Size([880, 79])\n",
      "| Test Loss: 0.414 | Test Acc: 88.86%\n",
      "Test: Recall: 0.99, Precision: 0.89, F-measure: 0.94\n",
      "\n"
     ]
    }
   ],
   "source": [
    "print(test_data_tensor.shape)\n",
    "\n",
    "model.eval()\n",
    "predictions, loss, acc = evaluation(model, test_data_tensor, test_label_tensor, loss_func)\n",
    "\n",
    "with torch.no_grad():\n",
    "    #print(predictions)\n",
    "    print(f'| Test Loss: {loss:.3f} | Test Acc: {acc*100:.2f}%')\n",
    "    f_measure(predictions, test_label_tensor)"
   ]
  },
  {
   "cell_type": "code",
   "execution_count": 48,
   "metadata": {
    "colab": {
     "base_uri": "https://localhost:8080/",
     "height": 85
    },
    "colab_type": "code",
    "id": "hoYD3dIF1abW",
    "outputId": "63ee4e72-6fee-4739-db69-7e5fffce30bc"
   },
   "outputs": [
    {
     "name": "stdout",
     "output_type": "stream",
     "text": [
      "tensor([1., 1., 1., 1., 1., 1., 1., 1., 1., 1.])\n",
      "tensor([0., 1.])\n"
     ]
    },
    {
     "data": {
      "text/plain": [
       "array([[  2,  92],\n",
       "       [  6, 780]])"
      ]
     },
     "execution_count": 48,
     "metadata": {
      "tags": []
     },
     "output_type": "execute_result"
    }
   ],
   "source": [
    "#@title Confusion matrix\n",
    "print(torch.round(torch.sigmoid(predictions)[0:10]))\n",
    "print(torch.round(torch.sigmoid(predictions)).unique())\n",
    "y_pred = torch.round(torch.sigmoid(predictions)).detach().numpy().astype(int)\n",
    "#print(y_pred)\n",
    "y_true = test_label_tensor.detach().numpy().astype(int)\n",
    "#print(y_true)\n",
    "confusion_matrix(y_true, y_pred)"
   ]
  },
  {
   "cell_type": "markdown",
   "metadata": {
    "colab_type": "text",
    "id": "lRsBh3CHQ8hl"
   },
   "source": [
    "## Training the model on the whole dataset"
   ]
  },
  {
   "cell_type": "code",
   "execution_count": 49,
   "metadata": {
    "colab": {
     "base_uri": "https://localhost:8080/",
     "height": 442
    },
    "colab_type": "code",
    "id": "1CRdK9MsBLXp",
    "outputId": "0a0dd78e-e3ad-456b-f9a8-aea723afb177"
   },
   "outputs": [
    {
     "name": "stdout",
     "output_type": "stream",
     "text": [
      "0\n",
      "1000\n",
      "2000\n",
      "3000\n",
      "4000\n",
      "| Epoch: 01 | Train Loss: 0.494 | Train Acc: 80.00% |\n",
      "| Epoch: 02 | Train Loss: 0.256 | Train Acc: 100.00% |\n",
      "| Epoch: 03 | Train Loss: 0.231 | Train Acc: 80.00% |\n",
      "| Epoch: 04 | Train Loss: 0.245 | Train Acc: 80.00% |\n",
      "| Epoch: 05 | Train Loss: 0.274 | Train Acc: 80.00% |\n",
      "| Epoch: 06 | Train Loss: 0.158 | Train Acc: 100.00% |\n",
      "| Epoch: 07 | Train Loss: 0.174 | Train Acc: 100.00% |\n",
      "| Epoch: 08 | Train Loss: 0.206 | Train Acc: 80.00% |\n",
      "| Epoch: 09 | Train Loss: 0.321 | Train Acc: 80.00% |\n",
      "| Epoch: 10 | Train Loss: 0.212 | Train Acc: 80.00% |\n",
      "| Epoch: 11 | Train Loss: 0.304 | Train Acc: 80.00% |\n",
      "| Epoch: 12 | Train Loss: 0.168 | Train Acc: 100.00% |\n",
      "| Epoch: 13 | Train Loss: 0.293 | Train Acc: 80.00% |\n",
      "| Epoch: 14 | Train Loss: 0.233 | Train Acc: 80.00% |\n",
      "| Epoch: 15 | Train Loss: 0.227 | Train Acc: 80.00% |\n",
      "| Epoch: 16 | Train Loss: 0.162 | Train Acc: 80.00% |\n",
      "| Epoch: 17 | Train Loss: 0.200 | Train Acc: 80.00% |\n",
      "| Epoch: 18 | Train Loss: 0.206 | Train Acc: 80.00% |\n",
      "| Epoch: 19 | Train Loss: 0.273 | Train Acc: 80.00% |\n",
      "| Epoch: 20 | Train Loss: 0.185 | Train Acc: 80.00% |\n"
     ]
    }
   ],
   "source": [
    "data_tensor_b, label_tensor_b = get_model_inputs_b(fin_df_b_fil, word2idx, 'tweet', 'subtask_b', max_len_tweet)\n",
    "\n",
    "train_data_b = TensorDataset(data_tensor_b, label_tensor_b)\n",
    "train_dl_b = DataLoader(train_data_b, batch_size = batch_size)\n",
    "\n",
    "# Set random seeds for reproducible results\n",
    "torch.manual_seed(24)\n",
    "\n",
    "model_b = CNN(input_dim, embedding_dim, n_out_channels, window_size, output_dim, dropout)\n",
    "\n",
    "optimizer = optim.SGD(model_b.parameters(), lr = lr, momentum = momentum)\n",
    "loss_func = nn.BCEWithLogitsLoss()\n",
    "\n",
    "for epoch in range(1, epochs+1):\n",
    "    # Training\n",
    "    model_b.train()\n",
    "    epoch_loss, epoch_acc = train_batch(model_b, optimizer, train_dl_b, loss_func)\n",
    "    print(f'| Epoch: {epoch:02} | Train Loss: {epoch_loss:.3f} | Train Acc: {epoch_acc*100:.2f}% |')\n"
   ]
  },
  {
   "cell_type": "markdown",
   "metadata": {
    "colab_type": "text",
    "id": "FJ47boQPRDVm"
   },
   "source": [
    "## Load the test dataset for submission"
   ]
  },
  {
   "cell_type": "code",
   "execution_count": 50,
   "metadata": {
    "colab": {
     "base_uri": "https://localhost:8080/",
     "height": 71,
     "resources": {
      "http://localhost:8080/nbextensions/google.colab/files.js": {
       "data": "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",
       "headers": [
        [
         "content-type",
         "application/javascript"
        ]
       ],
       "ok": true,
       "status": 200,
       "status_text": ""
      }
     }
    },
    "colab_type": "code",
    "id": "q4Y08hHRossF",
    "outputId": "a11e1667-2523-41ea-ced0-57a1b49ad05c"
   },
   "outputs": [
    {
     "data": {
      "text/html": [
       "\n",
       "     <input type=\"file\" id=\"files-be4ed492-a925-4899-99e7-e4be8d9ad3eb\" name=\"files[]\" multiple disabled />\n",
       "     <output id=\"result-be4ed492-a925-4899-99e7-e4be8d9ad3eb\">\n",
       "      Upload widget is only available when the cell has been executed in the\n",
       "      current browser session. Please rerun this cell to enable.\n",
       "      </output>\n",
       "      <script src=\"/nbextensions/google.colab/files.js\"></script> "
      ],
      "text/plain": [
       "<IPython.core.display.HTML object>"
      ]
     },
     "metadata": {
      "tags": []
     },
     "output_type": "display_data"
    },
    {
     "name": "stdout",
     "output_type": "stream",
     "text": [
      "Saving testset-taskb.tsv to testset-taskb (2).tsv\n"
     ]
    }
   ],
   "source": [
    "from google.colab import files\n",
    "test_b = files.upload()"
   ]
  },
  {
   "cell_type": "code",
   "execution_count": 51,
   "metadata": {
    "colab": {
     "base_uri": "https://localhost:8080/",
     "height": 221
    },
    "colab_type": "code",
    "id": "e3v09VHTos1q",
    "outputId": "bff2595c-3a11-4024-b05d-d894c624fe90"
   },
   "outputs": [
    {
     "name": "stdout",
     "output_type": "stream",
     "text": [
      "(240, 2)\n"
     ]
    },
    {
     "data": {
      "text/html": [
       "<div>\n",
       "<style scoped>\n",
       "    .dataframe tbody tr th:only-of-type {\n",
       "        vertical-align: middle;\n",
       "    }\n",
       "\n",
       "    .dataframe tbody tr th {\n",
       "        vertical-align: top;\n",
       "    }\n",
       "\n",
       "    .dataframe thead th {\n",
       "        text-align: right;\n",
       "    }\n",
       "</style>\n",
       "<table border=\"1\" class=\"dataframe\">\n",
       "  <thead>\n",
       "    <tr style=\"text-align: right;\">\n",
       "      <th></th>\n",
       "      <th>id</th>\n",
       "      <th>tweet</th>\n",
       "    </tr>\n",
       "  </thead>\n",
       "  <tbody>\n",
       "    <tr>\n",
       "      <th>0</th>\n",
       "      <td>15923</td>\n",
       "      <td>#WhoIsQ #WheresTheServer #DumpNike #DECLASFISA...</td>\n",
       "    </tr>\n",
       "    <tr>\n",
       "      <th>1</th>\n",
       "      <td>60133</td>\n",
       "      <td>#NoPasaran: Unity demo to oppose the far-right...</td>\n",
       "    </tr>\n",
       "    <tr>\n",
       "      <th>2</th>\n",
       "      <td>83681</td>\n",
       "      <td>. . . What the fuck did he do this time?</td>\n",
       "    </tr>\n",
       "    <tr>\n",
       "      <th>3</th>\n",
       "      <td>65507</td>\n",
       "      <td>@USER Do you get the feeling he is kissing @US...</td>\n",
       "    </tr>\n",
       "    <tr>\n",
       "      <th>4</th>\n",
       "      <td>12588</td>\n",
       "      <td>@USER Nigga ware da hits at</td>\n",
       "    </tr>\n",
       "  </tbody>\n",
       "</table>\n",
       "</div>"
      ],
      "text/plain": [
       "      id                                              tweet\n",
       "0  15923  #WhoIsQ #WheresTheServer #DumpNike #DECLASFISA...\n",
       "1  60133  #NoPasaran: Unity demo to oppose the far-right...\n",
       "2  83681           . . . What the fuck did he do this time?\n",
       "3  65507  @USER Do you get the feeling he is kissing @US...\n",
       "4  12588                        @USER Nigga ware da hits at"
      ]
     },
     "execution_count": 51,
     "metadata": {
      "tags": []
     },
     "output_type": "execute_result"
    }
   ],
   "source": [
    "df_sub_b = pd.read_csv(io.StringIO(test_b[\"testset-taskb.tsv\"].decode('utf-8')),  sep = \"\\t\")\n",
    "print(df_sub_b.shape)\n",
    "df_sub_b.head()"
   ]
  },
  {
   "cell_type": "markdown",
   "metadata": {
    "colab_type": "text",
    "id": "-wy51vmERcRu"
   },
   "source": [
    "## Prediction with the trained model"
   ]
  },
  {
   "cell_type": "code",
   "execution_count": 52,
   "metadata": {
    "colab": {
     "base_uri": "https://localhost:8080/",
     "height": 289
    },
    "colab_type": "code",
    "id": "hqbh52jTpH5V",
    "outputId": "d8b1874f-a099-4bed-fa61-ed65a1ab5da1"
   },
   "outputs": [
    {
     "name": "stderr",
     "output_type": "stream",
     "text": [
      "/usr/local/lib/python3.6/dist-packages/pandas/core/frame.py:3027: SettingWithCopyWarning: \n",
      "A value is trying to be set on a copy of a slice from a DataFrame\n",
      "\n",
      "See the caveats in the documentation: http://pandas.pydata.org/pandas-docs/stable/indexing.html#indexing-view-versus-copy\n",
      "  return super(DataFrame, self).rename(**kwargs)\n"
     ]
    },
    {
     "data": {
      "text/html": [
       "<div>\n",
       "<style scoped>\n",
       "    .dataframe tbody tr th:only-of-type {\n",
       "        vertical-align: middle;\n",
       "    }\n",
       "\n",
       "    .dataframe tbody tr th {\n",
       "        vertical-align: top;\n",
       "    }\n",
       "\n",
       "    .dataframe thead th {\n",
       "        text-align: right;\n",
       "    }\n",
       "</style>\n",
       "<table border=\"1\" class=\"dataframe\">\n",
       "  <thead>\n",
       "    <tr style=\"text-align: right;\">\n",
       "      <th></th>\n",
       "      <th>id</th>\n",
       "      <th>tweet</th>\n",
       "      <th>tweet_lemma</th>\n",
       "    </tr>\n",
       "  </thead>\n",
       "  <tbody>\n",
       "    <tr>\n",
       "      <th>0</th>\n",
       "      <td>15923</td>\n",
       "      <td>[whoisq, wherestheserver, dumpnike, declasfisa...</td>\n",
       "      <td>[whoisq, wherestheserver, dumpnike, declasfisa...</td>\n",
       "    </tr>\n",
       "    <tr>\n",
       "      <th>1</th>\n",
       "      <td>60133</td>\n",
       "      <td>[nopasaran, unity, demo, oppose, farright, lon...</td>\n",
       "      <td>[nopasaran, unity, demo, oppose, farright, lon...</td>\n",
       "    </tr>\n",
       "    <tr>\n",
       "      <th>2</th>\n",
       "      <td>83681</td>\n",
       "      <td>[fuck, time]</td>\n",
       "      <td>[fuck, time]</td>\n",
       "    </tr>\n",
       "    <tr>\n",
       "      <th>3</th>\n",
       "      <td>65507</td>\n",
       "      <td>[user, get, feeling, kissing, user, behind, hu...</td>\n",
       "      <td>[user, get, feeling, kissing, user, behind, hu...</td>\n",
       "    </tr>\n",
       "    <tr>\n",
       "      <th>4</th>\n",
       "      <td>12588</td>\n",
       "      <td>[user, nigga, ware, da, hits]</td>\n",
       "      <td>[user, nigga, ware, da, hit]</td>\n",
       "    </tr>\n",
       "  </tbody>\n",
       "</table>\n",
       "</div>"
      ],
      "text/plain": [
       "      id                                              tweet  \\\n",
       "0  15923  [whoisq, wherestheserver, dumpnike, declasfisa...   \n",
       "1  60133  [nopasaran, unity, demo, oppose, farright, lon...   \n",
       "2  83681                                       [fuck, time]   \n",
       "3  65507  [user, get, feeling, kissing, user, behind, hu...   \n",
       "4  12588                      [user, nigga, ware, da, hits]   \n",
       "\n",
       "                                         tweet_lemma  \n",
       "0  [whoisq, wherestheserver, dumpnike, declasfisa...  \n",
       "1  [nopasaran, unity, demo, oppose, farright, lon...  \n",
       "2                                       [fuck, time]  \n",
       "3  [user, get, feeling, kissing, user, behind, hu...  \n",
       "4                       [user, nigga, ware, da, hit]  "
      ]
     },
     "execution_count": 52,
     "metadata": {
      "tags": []
     },
     "output_type": "execute_result"
    }
   ],
   "source": [
    "# Preprocessing\n",
    "df_test_b = preprocessing_df(df_sub_b, 'tweet')\n",
    "\n",
    "# Lemmatisation\n",
    "df_test_b = lemmatisation(df_test_b, 'tweet', False)\n",
    "\n",
    "df_test_b.head()"
   ]
  },
  {
   "cell_type": "code",
   "execution_count": 53,
   "metadata": {
    "colab": {
     "base_uri": "https://localhost:8080/",
     "height": 51
    },
    "colab_type": "code",
    "id": "nm-pwCCRAoIG",
    "outputId": "bed50464-39e8-4d0d-829c-7857b6f8fd4c"
   },
   "outputs": [
    {
     "name": "stdout",
     "output_type": "stream",
     "text": [
      "0\n",
      "torch.Size([240, 79])\n"
     ]
    }
   ],
   "source": [
    "test_b_input = get_model_inputs_test(df_test_b, word2idx, 'tweet_lemma', max_len_tweet)\n",
    "print(test_b_input.shape)"
   ]
  },
  {
   "cell_type": "code",
   "execution_count": 54,
   "metadata": {
    "colab": {
     "base_uri": "https://localhost:8080/",
     "height": 173
    },
    "colab_type": "code",
    "id": "eB-aGtLfBB2n",
    "outputId": "8cfede64-bbe5-4bca-d8af-3131f6894bc9"
   },
   "outputs": [
    {
     "data": {
      "text/html": [
       "<div>\n",
       "<style scoped>\n",
       "    .dataframe tbody tr th:only-of-type {\n",
       "        vertical-align: middle;\n",
       "    }\n",
       "\n",
       "    .dataframe tbody tr th {\n",
       "        vertical-align: top;\n",
       "    }\n",
       "\n",
       "    .dataframe thead th {\n",
       "        text-align: right;\n",
       "    }\n",
       "</style>\n",
       "<table border=\"1\" class=\"dataframe\">\n",
       "  <thead>\n",
       "    <tr style=\"text-align: right;\">\n",
       "      <th></th>\n",
       "      <th>class</th>\n",
       "    </tr>\n",
       "  </thead>\n",
       "  <tbody>\n",
       "    <tr>\n",
       "      <th>count</th>\n",
       "      <td>240</td>\n",
       "    </tr>\n",
       "    <tr>\n",
       "      <th>unique</th>\n",
       "      <td>2</td>\n",
       "    </tr>\n",
       "    <tr>\n",
       "      <th>top</th>\n",
       "      <td>TIN</td>\n",
       "    </tr>\n",
       "    <tr>\n",
       "      <th>freq</th>\n",
       "      <td>227</td>\n",
       "    </tr>\n",
       "  </tbody>\n",
       "</table>\n",
       "</div>"
      ],
      "text/plain": [
       "       class\n",
       "count    240\n",
       "unique     2\n",
       "top      TIN\n",
       "freq     227"
      ]
     },
     "execution_count": 54,
     "metadata": {
      "tags": []
     },
     "output_type": "execute_result"
    }
   ],
   "source": [
    "with torch.no_grad():\n",
    "    predictions_task_b = model_b(test_b_input).squeeze(1)\n",
    "\n",
    "y_pred = predict(predictions_task_b)\n",
    "y_pred['class'] = 'UNT'\n",
    "y_pred.loc[y_pred['pred'] == 1, 'class'] = 'TIN'\n",
    "\n",
    "y_pred.describe(include = ['O'])"
   ]
  },
  {
   "cell_type": "markdown",
   "metadata": {
    "colab_type": "text",
    "id": "qe7ZXPKARx0d"
   },
   "source": [
    "## Export the predictions in the required format for submission"
   ]
  },
  {
   "cell_type": "code",
   "execution_count": 55,
   "metadata": {
    "colab": {
     "base_uri": "https://localhost:8080/",
     "height": 34
    },
    "colab_type": "code",
    "id": "KDauka49YLA1",
    "outputId": "ac05169c-7591-4bee-b31d-2316583f2404"
   },
   "outputs": [
    {
     "name": "stdout",
     "output_type": "stream",
     "text": [
      "(240, 2)\n"
     ]
    }
   ],
   "source": [
    "subtask_b = submission(df_test_b, y_pred)\n",
    "print(subtask_b.shape)\n",
    "subtask_b.to_csv(\"result_subtask_b.csv\", index = False, header = False)"
   ]
  },
  {
   "cell_type": "code",
   "execution_count": 0,
   "metadata": {
    "colab": {},
    "colab_type": "code",
    "id": "nMRf3FEEYLKU"
   },
   "outputs": [],
   "source": [
    "files.download('result_subtask_b.csv')"
   ]
  },
  {
   "cell_type": "markdown",
   "metadata": {
    "colab_type": "text",
    "id": "UA1BtindvcMI"
   },
   "source": [
    "# Sub-task C"
   ]
  },
  {
   "cell_type": "markdown",
   "metadata": {
    "colab_type": "text",
    "id": "9_oLlPQ7SS92"
   },
   "source": [
    "## Remove untargeted offensive tweets"
   ]
  },
  {
   "cell_type": "code",
   "execution_count": 56,
   "metadata": {
    "colab": {
     "base_uri": "https://localhost:8080/",
     "height": 136
    },
    "colab_type": "code",
    "id": "jqRbdpQZvcMJ",
    "outputId": "c5c88225-3528-4cb4-8116-b24f391351dc"
   },
   "outputs": [
    {
     "name": "stdout",
     "output_type": "stream",
     "text": [
      "(13240, 3)\n",
      "(3876, 3)\n"
     ]
    },
    {
     "name": "stderr",
     "output_type": "stream",
     "text": [
      "/usr/local/lib/python3.6/dist-packages/pandas/core/frame.py:3027: SettingWithCopyWarning: \n",
      "A value is trying to be set on a copy of a slice from a DataFrame\n",
      "\n",
      "See the caveats in the documentation: http://pandas.pydata.org/pandas-docs/stable/indexing.html#indexing-view-versus-copy\n",
      "  return super(DataFrame, self).rename(**kwargs)\n"
     ]
    }
   ],
   "source": [
    "fin_df_c = sub_token_df[['id', 'tweet_lemma', 'subtask_c']]\n",
    "fin_df_c.rename(columns = {'tweet_lemma':'tweet'}, inplace = True)\n",
    "print(fin_df_c.shape)\n",
    "\n",
    "fin_df_c_fil =fin_df_c.dropna()\n",
    "print(fin_df_c_fil.shape) # 3876"
   ]
  },
  {
   "cell_type": "markdown",
   "metadata": {
    "colab_type": "text",
    "id": "d0pcXcZRShmR"
   },
   "source": [
    "## Split the data for sub-task C into three datasets"
   ]
  },
  {
   "cell_type": "code",
   "execution_count": 57,
   "metadata": {
    "colab": {
     "base_uri": "https://localhost:8080/",
     "height": 255
    },
    "colab_type": "code",
    "id": "NCXt-WswvcMK",
    "outputId": "d3ba382d-8215-4058-a261-06b9e22e8963"
   },
   "outputs": [
    {
     "name": "stdout",
     "output_type": "stream",
     "text": [
      "(2325, 3)\n",
      "(775, 3)\n",
      "(776, 3)\n"
     ]
    },
    {
     "data": {
      "text/html": [
       "<div>\n",
       "<style scoped>\n",
       "    .dataframe tbody tr th:only-of-type {\n",
       "        vertical-align: middle;\n",
       "    }\n",
       "\n",
       "    .dataframe tbody tr th {\n",
       "        vertical-align: top;\n",
       "    }\n",
       "\n",
       "    .dataframe thead th {\n",
       "        text-align: right;\n",
       "    }\n",
       "</style>\n",
       "<table border=\"1\" class=\"dataframe\">\n",
       "  <thead>\n",
       "    <tr style=\"text-align: right;\">\n",
       "      <th></th>\n",
       "      <th>id</th>\n",
       "      <th>tweet</th>\n",
       "      <th>subtask_c</th>\n",
       "    </tr>\n",
       "  </thead>\n",
       "  <tbody>\n",
       "    <tr>\n",
       "      <th>7426</th>\n",
       "      <td>26171</td>\n",
       "      <td>[long, as, blog, might, make, sense, url]</td>\n",
       "      <td>OTH</td>\n",
       "    </tr>\n",
       "    <tr>\n",
       "      <th>7012</th>\n",
       "      <td>40282</td>\n",
       "      <td>[user, one, crazy, person]</td>\n",
       "      <td>IND</td>\n",
       "    </tr>\n",
       "    <tr>\n",
       "      <th>11813</th>\n",
       "      <td>59464</td>\n",
       "      <td>[user, user, probably, violent, liberal, antif...</td>\n",
       "      <td>IND</td>\n",
       "    </tr>\n",
       "    <tr>\n",
       "      <th>7689</th>\n",
       "      <td>81738</td>\n",
       "      <td>[user, wrong, percent, time, bed, laying, sunt...</td>\n",
       "      <td>IND</td>\n",
       "    </tr>\n",
       "    <tr>\n",
       "      <th>9675</th>\n",
       "      <td>40262</td>\n",
       "      <td>[user, user, yep, produce, article, shut, libe...</td>\n",
       "      <td>GRP</td>\n",
       "    </tr>\n",
       "  </tbody>\n",
       "</table>\n",
       "</div>"
      ],
      "text/plain": [
       "          id                                              tweet subtask_c\n",
       "7426   26171          [long, as, blog, might, make, sense, url]       OTH\n",
       "7012   40282                         [user, one, crazy, person]       IND\n",
       "11813  59464  [user, user, probably, violent, liberal, antif...       IND\n",
       "7689   81738  [user, wrong, percent, time, bed, laying, sunt...       IND\n",
       "9675   40262  [user, user, yep, produce, article, shut, libe...       GRP"
      ]
     },
     "execution_count": 57,
     "metadata": {
      "tags": []
     },
     "output_type": "execute_result"
    }
   ],
   "source": [
    "df_train, df_test = train_test_split(fin_df_c_fil, test_size = 0.2, random_state = 24)\n",
    "df_train, df_val = train_test_split(df_train, test_size = 0.25, random_state = 24)\n",
    "print(df_train.shape)\n",
    "print(df_val.shape)\n",
    "print(df_test.shape)\n",
    "df_train.head()"
   ]
  },
  {
   "cell_type": "markdown",
   "metadata": {
    "colab_type": "text",
    "id": "xk9mxntpSmuD"
   },
   "source": [
    "## Transform the given data into an input for the neural network"
   ]
  },
  {
   "cell_type": "code",
   "execution_count": 58,
   "metadata": {
    "colab": {
     "base_uri": "https://localhost:8080/",
     "height": 204
    },
    "colab_type": "code",
    "id": "aU-I51OYy4ie",
    "outputId": "7691baa1-f2c5-4ad7-feee-40361fdeaaee"
   },
   "outputs": [
    {
     "name": "stdout",
     "output_type": "stream",
     "text": [
      "0\n",
      "1000\n",
      "2000\n",
      "       GRP  IND  OTH\n",
      "7426     0    0    1\n",
      "7012     0    1    0\n",
      "11813    0    1    0\n",
      "7689     0    1    0\n",
      "9675     1    0    0\n",
      "torch.Size([2325, 79])\n",
      "torch.Size([2325, 3])\n"
     ]
    }
   ],
   "source": [
    "def get_model_inputs_c(dataframe, word2idx, column, target, max_len):\n",
    "  data = dataframe.copy()\n",
    "  \n",
    "  # Convert words to index\n",
    "  data['index_tweet'] = data.tweet.apply(lambda x: [word2idx[tok] for tok in x if tok in word2idx])\n",
    "  \n",
    "  # we create a tensor of a fixed size filled with zeroes for padding\n",
    "  #data_tensor = Variable(torch.zeros((len(dataframe), max_len, embedding)))#.long() # Shape: No_tweets x maximum_length of tweets x embedding\n",
    "  data_tensor = Variable(torch.zeros((len(dataframe), max_len))).long()\n",
    "  \n",
    "  tweet_lengths = list(data['index_tweet'].map(len).values)\n",
    "  \n",
    "  # we fill it with the indexes\n",
    "  for idx, (indices, tweet) in enumerate(zip(data['index_tweet'], tweet_lengths)):\n",
    "        if idx % 1000 == 0:\n",
    "            print(idx)\n",
    "        data_tensor[idx, :tweet] = torch.LongTensor(indices)\n",
    "\n",
    "\n",
    "  # Labels\n",
    "  #labels = dataframe[target].copy()\n",
    "  labels = pd.get_dummies(dataframe[target].copy())\n",
    "  print(labels.head())\n",
    "  labels_val = labels.values.astype(dtype = 'float32')\n",
    "  label_tensor = torch.from_numpy(labels_val)\n",
    "  \n",
    "  return data_tensor, label_tensor\n",
    "\n",
    "\n",
    "train_data_tensor, train_label_tensor = get_model_inputs_c(df_train, word2idx, 'tweet', 'subtask_c', max_len_tweet)\n",
    "\n",
    "print(train_data_tensor.shape)\n",
    "print(train_label_tensor.shape)"
   ]
  },
  {
   "cell_type": "code",
   "execution_count": 59,
   "metadata": {
    "colab": {
     "base_uri": "https://localhost:8080/",
     "height": 255
    },
    "colab_type": "code",
    "id": "Ej1MNUfly5nZ",
    "outputId": "59478cc0-d653-4c1b-9c1b-f3478b61415e"
   },
   "outputs": [
    {
     "name": "stdout",
     "output_type": "stream",
     "text": [
      "0\n",
      "       GRP  IND  OTH\n",
      "11454    0    1    0\n",
      "11930    1    0    0\n",
      "5332     0    1    0\n",
      "2558     0    1    0\n",
      "11850    0    1    0\n",
      "0\n",
      "       GRP  IND  OTH\n",
      "3343     0    1    0\n",
      "6868     0    1    0\n",
      "10597    0    1    0\n",
      "1830     0    1    0\n",
      "937      0    0    1\n"
     ]
    }
   ],
   "source": [
    "# Validation\n",
    "val_data_tensor, val_label_tensor = get_model_inputs_c(df_val, word2idx, 'tweet', 'subtask_c', max_len_tweet)\n",
    "\n",
    "# Testing\n",
    "test_data_tensor, test_label_tensor = get_model_inputs_c(df_test, word2idx, 'tweet', 'subtask_c', max_len_tweet)"
   ]
  },
  {
   "cell_type": "code",
   "execution_count": 0,
   "metadata": {
    "colab": {},
    "colab_type": "code",
    "id": "SgX5Cgicy5k2"
   },
   "outputs": [],
   "source": [
    "# Data loading\n",
    "# Training\n",
    "train_data = TensorDataset(train_data_tensor, train_label_tensor)\n",
    "train_dl = DataLoader(train_data, batch_size = batch_size)"
   ]
  },
  {
   "cell_type": "markdown",
   "metadata": {
    "colab_type": "text",
    "id": "Q6ScNmR5SuUJ"
   },
   "source": [
    "## Training the neural network"
   ]
  },
  {
   "cell_type": "code",
   "execution_count": 61,
   "metadata": {
    "colab": {
     "base_uri": "https://localhost:8080/",
     "height": 374
    },
    "colab_type": "code",
    "id": "p91vXUXcy5iL",
    "outputId": "d70cb948-5a48-405f-b041-84f81e972502"
   },
   "outputs": [
    {
     "name": "stdout",
     "output_type": "stream",
     "text": [
      "| Epoch: 01 | Train Loss: 0.494 | Train Acc: 233.33% | Val. Loss: 0.540 | Val. Acc: 220.13% |\n",
      "| Epoch: 02 | Train Loss: 0.508 | Train Acc: 246.67% | Val. Loss: 0.528 | Val. Acc: 223.35% |\n",
      "| Epoch: 03 | Train Loss: 0.484 | Train Acc: 240.00% | Val. Loss: 0.519 | Val. Acc: 225.29% |\n",
      "| Epoch: 04 | Train Loss: 0.544 | Train Acc: 240.00% | Val. Loss: 0.520 | Val. Acc: 225.03% |\n",
      "| Epoch: 05 | Train Loss: 0.531 | Train Acc: 233.33% | Val. Loss: 0.516 | Val. Acc: 225.68% |\n",
      "| Epoch: 06 | Train Loss: 0.512 | Train Acc: 233.33% | Val. Loss: 0.507 | Val. Acc: 225.68% |\n",
      "| Epoch: 07 | Train Loss: 0.496 | Train Acc: 240.00% | Val. Loss: 0.516 | Val. Acc: 225.16% |\n",
      "| Epoch: 08 | Train Loss: 0.409 | Train Acc: 240.00% | Val. Loss: 0.503 | Val. Acc: 226.19% |\n",
      "| Epoch: 09 | Train Loss: 0.487 | Train Acc: 240.00% | Val. Loss: 0.514 | Val. Acc: 225.68% |\n",
      "| Epoch: 10 | Train Loss: 0.500 | Train Acc: 233.33% | Val. Loss: 0.500 | Val. Acc: 226.84% |\n",
      "| Epoch: 11 | Train Loss: 0.433 | Train Acc: 266.67% | Val. Loss: 0.506 | Val. Acc: 226.32% |\n",
      "| Epoch: 12 | Train Loss: 0.399 | Train Acc: 233.33% | Val. Loss: 0.499 | Val. Acc: 227.23% |\n",
      "| Epoch: 13 | Train Loss: 0.388 | Train Acc: 246.67% | Val. Loss: 0.503 | Val. Acc: 226.71% |\n",
      "| Epoch: 14 | Train Loss: 0.460 | Train Acc: 206.67% | Val. Loss: 0.495 | Val. Acc: 228.90% |\n",
      "| Epoch: 15 | Train Loss: 0.569 | Train Acc: 233.33% | Val. Loss: 0.506 | Val. Acc: 227.61% |\n",
      "| Epoch: 16 | Train Loss: 0.435 | Train Acc: 246.67% | Val. Loss: 0.497 | Val. Acc: 229.16% |\n",
      "| Epoch: 17 | Train Loss: 0.476 | Train Acc: 226.67% | Val. Loss: 0.503 | Val. Acc: 228.65% |\n",
      "| Epoch: 18 | Train Loss: 0.371 | Train Acc: 246.67% | Val. Loss: 0.494 | Val. Acc: 230.06% |\n",
      "| Epoch: 19 | Train Loss: 0.343 | Train Acc: 260.00% | Val. Loss: 0.495 | Val. Acc: 229.55% |\n",
      "| Epoch: 20 | Train Loss: 0.344 | Train Acc: 253.33% | Val. Loss: 0.490 | Val. Acc: 231.48% |\n",
      "F_score on the validation set: 0.6325259515570936\n"
     ]
    }
   ],
   "source": [
    "def mult_accuracy(output, target):\n",
    "    acc_list = []\n",
    "    for i in range(3):\n",
    "      acc_list += [accuracy(torch.round(output[:, i]), target[:, i])]\n",
    "    return sum(acc_list) / len(acc_list)\n",
    "\n",
    "# Variables\n",
    "# Multiclass (3 classes) classification\n",
    "output_dim = 3\n",
    "\n",
    "# Variables for the SDG\n",
    "# Learning rate\n",
    "lr = 0.05 #0.01\n",
    "\n",
    "# Momentum\n",
    "momentum = 0 #0.5\n",
    "\n",
    "\n",
    "model, train_loss_history, val_loss_history = train(train_dl, val_data_tensor, \n",
    "                                                    val_label_tensor, lr, epochs, input_dim, embedding_dim, \n",
    "                                                    n_out_channels, window_size, output_dim, dropout, \n",
    "                                                    momentum)\n",
    "\n",
    "# Ignore the accuracy value"
   ]
  },
  {
   "cell_type": "code",
   "execution_count": 62,
   "metadata": {
    "colab": {
     "base_uri": "https://localhost:8080/",
     "height": 296
    },
    "colab_type": "code",
    "id": "b0wYS-OLA2hx",
    "outputId": "a7f4966c-944a-40f3-a724-4e1ef01a0d0a"
   },
   "outputs": [
    {
     "name": "stdout",
     "output_type": "stream",
     "text": [
      "20 20\n"
     ]
    },
    {
     "data": {
      "image/png": "[encoded data removed]",
      "text/plain": [
       "<Figure size 432x288 with 1 Axes>"
      ]
     },
     "metadata": {
      "tags": []
     },
     "output_type": "display_data"
    }
   ],
   "source": [
    "print(len(train_loss_history), len(val_loss_history))\n",
    "plot_loss_curves(train_loss_history, val_loss_history)"
   ]
  },
  {
   "cell_type": "markdown",
   "metadata": {
    "colab_type": "text",
    "id": "K4Ee6yA5TIg8"
   },
   "source": [
    "## Grid search for hyperparameter tuning"
   ]
  },
  {
   "cell_type": "code",
   "execution_count": 81,
   "metadata": {
    "colab": {
     "base_uri": "https://localhost:8080/",
     "height": 1394
    },
    "colab_type": "code",
    "id": "ibJkjRGHA8E4",
    "outputId": "d464a527-b959-4827-cbb7-5316b0551e38"
   },
   "outputs": [
    {
     "name": "stdout",
     "output_type": "stream",
     "text": [
      "Learning rate: 0.5 \tMomentum: 0\n",
      "Learning rate: 0.5 \tMomentum: 0\n",
      "It takes 43.019857 seconds for a learning rate of 0.5 and a momentum of 0.\n",
      "Learning rate: 0.5 \tMomentum: 0.3\n",
      "It takes 43.019857 seconds for a learning rate of 0.5 and a momentum of 0.\n",
      "Learning rate: 0.5 \tMomentum: 0.3\n",
      "It takes 50.544779 seconds for a learning rate of 0.5 and a momentum of 0.3.\n",
      "Learning rate: 0.5 \tMomentum: 0.5\n",
      "It takes 50.544779 seconds for a learning rate of 0.5 and a momentum of 0.3.\n",
      "Learning rate: 0.5 \tMomentum: 0.5\n",
      "It takes 47.944822 seconds for a learning rate of 0.5 and a momentum of 0.5.\n",
      "Learning rate: 0.5 \tMomentum: 0.9\n",
      "It takes 47.944822 seconds for a learning rate of 0.5 and a momentum of 0.5.\n",
      "Learning rate: 0.5 \tMomentum: 0.9\n",
      "It takes 45.929596 seconds for a learning rate of 0.5 and a momentum of 0.9.\n",
      "Learning rate: 0.3 \tMomentum: 0\n",
      "It takes 45.929596 seconds for a learning rate of 0.5 and a momentum of 0.9.\n",
      "Learning rate: 0.3 \tMomentum: 0\n",
      "It takes 40.089585 seconds for a learning rate of 0.3 and a momentum of 0.\n",
      "Learning rate: 0.3 \tMomentum: 0.3\n",
      "It takes 40.089585 seconds for a learning rate of 0.3 and a momentum of 0.\n",
      "Learning rate: 0.3 \tMomentum: 0.3\n",
      "It takes 48.894597 seconds for a learning rate of 0.3 and a momentum of 0.3.\n",
      "Learning rate: 0.3 \tMomentum: 0.5\n",
      "It takes 48.894597 seconds for a learning rate of 0.3 and a momentum of 0.3.\n",
      "Learning rate: 0.3 \tMomentum: 0.5\n",
      "It takes 49.345783 seconds for a learning rate of 0.3 and a momentum of 0.5.\n",
      "Learning rate: 0.3 \tMomentum: 0.9\n",
      "It takes 49.345783 seconds for a learning rate of 0.3 and a momentum of 0.5.\n",
      "Learning rate: 0.3 \tMomentum: 0.9\n",
      "It takes 46.991840 seconds for a learning rate of 0.3 and a momentum of 0.9.\n",
      "Learning rate: 0.1 \tMomentum: 0\n",
      "It takes 46.991840 seconds for a learning rate of 0.3 and a momentum of 0.9.\n",
      "Learning rate: 0.1 \tMomentum: 0\n",
      "It takes 40.264808 seconds for a learning rate of 0.1 and a momentum of 0.\n",
      "Learning rate: 0.1 \tMomentum: 0.3\n",
      "It takes 40.264808 seconds for a learning rate of 0.1 and a momentum of 0.\n",
      "Learning rate: 0.1 \tMomentum: 0.3\n",
      "It takes 48.992096 seconds for a learning rate of 0.1 and a momentum of 0.3.\n",
      "Learning rate: 0.1 \tMomentum: 0.5\n",
      "It takes 48.992096 seconds for a learning rate of 0.1 and a momentum of 0.3.\n",
      "Learning rate: 0.1 \tMomentum: 0.5\n",
      "It takes 49.856247 seconds for a learning rate of 0.1 and a momentum of 0.5.\n",
      "Learning rate: 0.1 \tMomentum: 0.9\n",
      "It takes 49.856247 seconds for a learning rate of 0.1 and a momentum of 0.5.\n",
      "Learning rate: 0.1 \tMomentum: 0.9\n",
      "It takes 46.387043 seconds for a learning rate of 0.1 and a momentum of 0.9.\n",
      "Learning rate: 0.05 \tMomentum: 0\n",
      "It takes 46.387043 seconds for a learning rate of 0.1 and a momentum of 0.9.\n",
      "Learning rate: 0.05 \tMomentum: 0\n",
      "It takes 40.167474 seconds for a learning rate of 0.05 and a momentum of 0.\n",
      "Learning rate: 0.05 \tMomentum: 0.3\n",
      "It takes 40.167474 seconds for a learning rate of 0.05 and a momentum of 0.\n",
      "Learning rate: 0.05 \tMomentum: 0.3\n",
      "It takes 49.090255 seconds for a learning rate of 0.05 and a momentum of 0.3.\n",
      "Learning rate: 0.05 \tMomentum: 0.5\n",
      "It takes 49.090255 seconds for a learning rate of 0.05 and a momentum of 0.3.\n",
      "Learning rate: 0.05 \tMomentum: 0.5\n",
      "It takes 50.244974 seconds for a learning rate of 0.05 and a momentum of 0.5.\n",
      "Learning rate: 0.05 \tMomentum: 0.9\n",
      "It takes 50.244974 seconds for a learning rate of 0.05 and a momentum of 0.5.\n",
      "Learning rate: 0.05 \tMomentum: 0.9\n",
      "It takes 46.380547 seconds for a learning rate of 0.05 and a momentum of 0.9.\n",
      "Learning rate: 0.01 \tMomentum: 0\n",
      "It takes 46.380547 seconds for a learning rate of 0.05 and a momentum of 0.9.\n",
      "Learning rate: 0.01 \tMomentum: 0\n",
      "It takes 40.247954 seconds for a learning rate of 0.01 and a momentum of 0.\n",
      "Learning rate: 0.01 \tMomentum: 0.3\n",
      "It takes 40.247954 seconds for a learning rate of 0.01 and a momentum of 0.\n",
      "Learning rate: 0.01 \tMomentum: 0.3\n",
      "It takes 49.118066 seconds for a learning rate of 0.01 and a momentum of 0.3.\n",
      "Learning rate: 0.01 \tMomentum: 0.5\n",
      "It takes 49.118066 seconds for a learning rate of 0.01 and a momentum of 0.3.\n",
      "Learning rate: 0.01 \tMomentum: 0.5\n",
      "It takes 49.771908 seconds for a learning rate of 0.01 and a momentum of 0.5.\n",
      "Learning rate: 0.01 \tMomentum: 0.9\n",
      "It takes 49.771908 seconds for a learning rate of 0.01 and a momentum of 0.5.\n",
      "Learning rate: 0.01 \tMomentum: 0.9\n",
      "It takes 46.505642 seconds for a learning rate of 0.01 and a momentum of 0.9.\n",
      "It takes 46.505642 seconds for a learning rate of 0.01 and a momentum of 0.9.\n"
     ]
    },
    {
     "data": {
      "text/plain": [
       "([0.05, 0], 0.6360520904729267)"
      ]
     },
     "execution_count": 81,
     "metadata": {
      "tags": []
     },
     "output_type": "execute_result"
    },
    {
     "data": {
      "text/plain": [
       "([0.05, 0], 0.6360520904729267)"
      ]
     },
     "execution_count": 81,
     "metadata": {
      "tags": []
     },
     "output_type": "execute_result"
    }
   ],
   "source": [
    "def grid_search():\n",
    "    ''' \n",
    "    A function to perform a basic grid search for hyperparameter tuning.\n",
    "\n",
    "    The function evaluates different values of learning rates and of momentum in order to\n",
    "    compare the performance of the stochastic gradient descent. \n",
    "    Returns the best parameter set and the corresponding accuracy.\n",
    "    '''\n",
    "\n",
    "    # Set random seeds for reproducible results\n",
    "    torch.manual_seed(24)\n",
    "    lr = [0.5, 0.3, 0.1, 0.05, 0.01]\n",
    "    momentum = [0, 0.3, 0.5, 0.9]\n",
    "    parameters = [lr, momentum]\n",
    "\n",
    "    best_f_score = 0 # Initialisation\n",
    "    best_params = [None, None]\n",
    "\n",
    "    # Set seed for reproducible results\n",
    "    torch.manual_seed(24)\n",
    "\n",
    "    for param1 in parameters[0]:\n",
    "        for param2 in parameters[1]:\n",
    "            start = time.time()\n",
    "            print('Learning rate:', param1, '\\tMomentum:', param2)\n",
    "\n",
    "            # Create the neural network\n",
    "            model = CNN(input_dim, embedding_dim, n_out_channels, window_size, output_dim, dropout)\n",
    "\n",
    "            #model.embedding.weight.data.copy_(torch.from_numpy(wvecs))\n",
    "\n",
    "            optimizer = optim.SGD(model.parameters(), lr = param1, momentum = param2)\n",
    "            loss_func = nn.BCEWithLogitsLoss()\n",
    "\n",
    "            for epoch in range(1, epochs+1):\n",
    "                # Training\n",
    "                model.train()\n",
    "                epoch_loss, epoch_acc = train_batch(model, optimizer, train_dl, loss_func)\n",
    "\n",
    "                # On the validation dataset\n",
    "                model.eval()\n",
    "                predictions_valid, valid_loss, valid_acc = evaluation(model, val_data_tensor, val_label_tensor, loss_func)\n",
    "\n",
    "            with torch.no_grad():\n",
    "                f_score = f_measure(predictions_valid, val_label_tensor, False)\n",
    "\n",
    "            if f_score > best_f_score:\n",
    "                best_f_score = f_score\n",
    "                best_params[0], best_params[1] = param1, param2\n",
    "\n",
    "            duration = time.time() - start\n",
    "            print('It takes {0:.6f} seconds for a learning rate of {1} and a momentum of {2}.'.format(duration, param1, param2))\n",
    "\n",
    "    return best_params, best_f_score\n",
    "\n",
    "grid_search()"
   ]
  },
  {
   "cell_type": "markdown",
   "metadata": {
    "colab_type": "text",
    "id": "fbhriYlkTSRm"
   },
   "source": [
    "## Performance on the test dataset"
   ]
  },
  {
   "cell_type": "code",
   "execution_count": 63,
   "metadata": {
    "colab": {
     "base_uri": "https://localhost:8080/",
     "height": 68
    },
    "colab_type": "code",
    "id": "P02jPJX0y5fq",
    "outputId": "dccae733-f688-4c6d-8926-16d486bb608e"
   },
   "outputs": [
    {
     "name": "stdout",
     "output_type": "stream",
     "text": [
      "| Test Loss: 0.481 | Test Acc: 77.15%\n",
      "Test: Recall: 0.59, Precision: 0.70, F-measure: 0.64\n",
      "\n"
     ]
    }
   ],
   "source": [
    "model.eval()\n",
    "with torch.no_grad():\n",
    "  predictions = model(test_data_tensor).squeeze(1)\n",
    "  loss = loss_func(predictions, test_label_tensor)\n",
    "  acc = mult_accuracy(torch.round(predictions), test_label_tensor)\n",
    "  print(f'| Test Loss: {loss:.3f} | Test Acc: {acc*100:.2f}%')\n",
    "  f_measure(predictions, test_label_tensor)\n",
    "  "
   ]
  },
  {
   "cell_type": "code",
   "execution_count": 64,
   "metadata": {
    "colab": {
     "base_uri": "https://localhost:8080/",
     "height": 153
    },
    "colab_type": "code",
    "id": "xCYshhRNy5an",
    "outputId": "4f98ba92-d512-479f-c193-d6863ab444ef"
   },
   "outputs": [
    {
     "name": "stdout",
     "output_type": "stream",
     "text": [
      "tensor([[0., 1., 0.],\n",
      "        [0., 1., 0.],\n",
      "        [0., 1., 0.],\n",
      "        [0., 0., 0.],\n",
      "        [0., 0., 0.]])\n"
     ]
    },
    {
     "data": {
      "text/plain": [
       "array([[ 49, 117,  64],\n",
       "       [ 16, 410,  36],\n",
       "       [  9,  58,  17]])"
      ]
     },
     "execution_count": 64,
     "metadata": {
      "tags": []
     },
     "output_type": "execute_result"
    }
   ],
   "source": [
    "#@title Confusion matrix\n",
    "print(torch.round(torch.sigmoid(predictions)[0:5]))\n",
    "y_pred = torch.round(torch.sigmoid(predictions)).argmax(dim = 1).detach().numpy().astype(int)\n",
    "#print(y_pred)\n",
    "y_true = test_label_tensor.argmax(dim = 1).detach().numpy().astype(int)\n",
    "#print(y_true)\n",
    "confusion_matrix(y_true ,y_pred)"
   ]
  },
  {
   "cell_type": "markdown",
   "metadata": {
    "colab_type": "text",
    "id": "UkasNrCbTXaU"
   },
   "source": [
    "## Training the model on the whole dataset"
   ]
  },
  {
   "cell_type": "code",
   "execution_count": 67,
   "metadata": {
    "colab": {
     "base_uri": "https://localhost:8080/",
     "height": 527
    },
    "colab_type": "code",
    "id": "wmnQ8qNGy5X7",
    "outputId": "d6ef8a17-fcaf-4a88-b699-6f98c4db6084"
   },
   "outputs": [
    {
     "name": "stdout",
     "output_type": "stream",
     "text": [
      "0\n",
      "1000\n",
      "2000\n",
      "3000\n",
      "    GRP  IND  OTH\n",
      "1     0    1    0\n",
      "5     0    0    1\n",
      "7     1    0    0\n",
      "9     0    1    0\n",
      "12    0    1    0\n",
      "| Epoch: 01 | Train Loss: 0.863\n",
      "| Epoch: 02 | Train Loss: 0.943\n",
      "| Epoch: 03 | Train Loss: 1.023\n",
      "| Epoch: 04 | Train Loss: 0.780\n",
      "| Epoch: 05 | Train Loss: 0.855\n",
      "| Epoch: 06 | Train Loss: 0.852\n",
      "| Epoch: 07 | Train Loss: 0.799\n",
      "| Epoch: 08 | Train Loss: 0.701\n",
      "| Epoch: 09 | Train Loss: 0.628\n",
      "| Epoch: 10 | Train Loss: 0.688\n",
      "| Epoch: 11 | Train Loss: 0.820\n",
      "| Epoch: 12 | Train Loss: 0.682\n",
      "| Epoch: 13 | Train Loss: 0.505\n",
      "| Epoch: 14 | Train Loss: 0.518\n",
      "| Epoch: 15 | Train Loss: 0.600\n",
      "| Epoch: 16 | Train Loss: 0.536\n",
      "| Epoch: 17 | Train Loss: 0.498\n",
      "| Epoch: 18 | Train Loss: 0.474\n",
      "| Epoch: 19 | Train Loss: 0.576\n",
      "| Epoch: 20 | Train Loss: 0.609\n"
     ]
    }
   ],
   "source": [
    "data_tensor_c, label_tensor_c = get_model_inputs_c(fin_df_c_fil, word2idx, 'tweet', 'subtask_c', max_len_tweet)\n",
    "\n",
    "train_data_c = TensorDataset(data_tensor_c, label_tensor_c)\n",
    "train_dl_c = DataLoader(train_data_c, batch_size = batch_size)\n",
    "\n",
    "# Set random seeds for reproducible results\n",
    "torch.manual_seed(24)\n",
    "\n",
    "model_c = CNN(input_dim, embedding_dim, n_out_channels, window_size, output_dim, dropout)\n",
    "\n",
    "optimizer = optim.SGD(model_c.parameters(), lr = lr, momentum = momentum)\n",
    "loss_func = nn.BCEWithLogitsLoss()\n",
    "\n",
    "for epoch in range(1, epochs+1):\n",
    "    # Training\n",
    "    model_c.train()\n",
    "    epoch_loss, epoch_acc = train_batch(model_c, optimizer, train_dl_c, loss_func)\n",
    "    print(f'| Epoch: {epoch:02} | Train Loss: {epoch_loss:.3f}')\n"
   ]
  },
  {
   "cell_type": "markdown",
   "metadata": {
    "colab_type": "text",
    "id": "-uD-73DCTtNt"
   },
   "source": [
    "## Load the test dataset for submission"
   ]
  },
  {
   "cell_type": "code",
   "execution_count": 66,
   "metadata": {
    "colab": {
     "base_uri": "https://localhost:8080/",
     "height": 71,
     "resources": {
      "http://localhost:8080/nbextensions/google.colab/files.js": {
       "data": "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",
       "headers": [
        [
         "content-type",
         "application/javascript"
        ]
       ],
       "ok": true,
       "status": 200,
       "status_text": ""
      }
     }
    },
    "colab_type": "code",
    "id": "hXDtknqXy5VZ",
    "outputId": "29b58584-95fb-43b6-d142-234fd8809520"
   },
   "outputs": [
    {
     "data": {
      "text/html": [
       "\n",
       "     <input type=\"file\" id=\"files-14e7a242-b61b-497c-8a4a-a13c8b8cf0e9\" name=\"files[]\" multiple disabled />\n",
       "     <output id=\"result-14e7a242-b61b-497c-8a4a-a13c8b8cf0e9\">\n",
       "      Upload widget is only available when the cell has been executed in the\n",
       "      current browser session. Please rerun this cell to enable.\n",
       "      </output>\n",
       "      <script src=\"/nbextensions/google.colab/files.js\"></script> "
      ],
      "text/plain": [
       "<IPython.core.display.HTML object>"
      ]
     },
     "metadata": {
      "tags": []
     },
     "output_type": "display_data"
    },
    {
     "name": "stdout",
     "output_type": "stream",
     "text": [
      "Saving test_set_taskc.tsv to test_set_taskc (2).tsv\n"
     ]
    }
   ],
   "source": [
    "from google.colab import files\n",
    "test_c = files.upload()"
   ]
  },
  {
   "cell_type": "code",
   "execution_count": 68,
   "metadata": {
    "colab": {
     "base_uri": "https://localhost:8080/",
     "height": 221
    },
    "colab_type": "code",
    "id": "xABnuWs1Bwjf",
    "outputId": "fa47a211-31f8-49ba-8bf7-662e5006a622"
   },
   "outputs": [
    {
     "name": "stdout",
     "output_type": "stream",
     "text": [
      "(213, 2)\n"
     ]
    },
    {
     "data": {
      "text/html": [
       "<div>\n",
       "<style scoped>\n",
       "    .dataframe tbody tr th:only-of-type {\n",
       "        vertical-align: middle;\n",
       "    }\n",
       "\n",
       "    .dataframe tbody tr th {\n",
       "        vertical-align: top;\n",
       "    }\n",
       "\n",
       "    .dataframe thead th {\n",
       "        text-align: right;\n",
       "    }\n",
       "</style>\n",
       "<table border=\"1\" class=\"dataframe\">\n",
       "  <thead>\n",
       "    <tr style=\"text-align: right;\">\n",
       "      <th></th>\n",
       "      <th>id</th>\n",
       "      <th>tweet</th>\n",
       "    </tr>\n",
       "  </thead>\n",
       "  <tbody>\n",
       "    <tr>\n",
       "      <th>0</th>\n",
       "      <td>15923</td>\n",
       "      <td>#WhoIsQ #WheresTheServer #DumpNike #DECLASFISA...</td>\n",
       "    </tr>\n",
       "    <tr>\n",
       "      <th>1</th>\n",
       "      <td>60133</td>\n",
       "      <td>#NoPasaran: Unity demo to oppose the far-right...</td>\n",
       "    </tr>\n",
       "    <tr>\n",
       "      <th>2</th>\n",
       "      <td>83681</td>\n",
       "      <td>. . . What the fuck did he do this time?</td>\n",
       "    </tr>\n",
       "    <tr>\n",
       "      <th>3</th>\n",
       "      <td>65507</td>\n",
       "      <td>@USER Do you get the feeling he is kissing @US...</td>\n",
       "    </tr>\n",
       "    <tr>\n",
       "      <th>4</th>\n",
       "      <td>34263</td>\n",
       "      <td>#StopKavanaugh he is liar like the rest of the...</td>\n",
       "    </tr>\n",
       "  </tbody>\n",
       "</table>\n",
       "</div>"
      ],
      "text/plain": [
       "      id                                              tweet\n",
       "0  15923  #WhoIsQ #WheresTheServer #DumpNike #DECLASFISA...\n",
       "1  60133  #NoPasaran: Unity demo to oppose the far-right...\n",
       "2  83681           . . . What the fuck did he do this time?\n",
       "3  65507  @USER Do you get the feeling he is kissing @US...\n",
       "4  34263  #StopKavanaugh he is liar like the rest of the..."
      ]
     },
     "execution_count": 68,
     "metadata": {
      "tags": []
     },
     "output_type": "execute_result"
    }
   ],
   "source": [
    "df_sub_c = pd.read_csv(io.StringIO(test_c[\"test_set_taskc.tsv\"].decode('utf-8')),  sep = \"\\t\")\n",
    "print(df_sub_c.shape)\n",
    "df_sub_c.head()"
   ]
  },
  {
   "cell_type": "markdown",
   "metadata": {
    "colab_type": "text",
    "id": "K7QS-mRrTyWh"
   },
   "source": [
    "## Prediction with the trained model"
   ]
  },
  {
   "cell_type": "code",
   "execution_count": 69,
   "metadata": {
    "colab": {
     "base_uri": "https://localhost:8080/",
     "height": 289
    },
    "colab_type": "code",
    "id": "IL9MermQBwgN",
    "outputId": "d9fd1c18-8baf-4da2-8c60-306574072fac"
   },
   "outputs": [
    {
     "name": "stderr",
     "output_type": "stream",
     "text": [
      "/usr/local/lib/python3.6/dist-packages/pandas/core/frame.py:3027: SettingWithCopyWarning: \n",
      "A value is trying to be set on a copy of a slice from a DataFrame\n",
      "\n",
      "See the caveats in the documentation: http://pandas.pydata.org/pandas-docs/stable/indexing.html#indexing-view-versus-copy\n",
      "  return super(DataFrame, self).rename(**kwargs)\n"
     ]
    },
    {
     "data": {
      "text/html": [
       "<div>\n",
       "<style scoped>\n",
       "    .dataframe tbody tr th:only-of-type {\n",
       "        vertical-align: middle;\n",
       "    }\n",
       "\n",
       "    .dataframe tbody tr th {\n",
       "        vertical-align: top;\n",
       "    }\n",
       "\n",
       "    .dataframe thead th {\n",
       "        text-align: right;\n",
       "    }\n",
       "</style>\n",
       "<table border=\"1\" class=\"dataframe\">\n",
       "  <thead>\n",
       "    <tr style=\"text-align: right;\">\n",
       "      <th></th>\n",
       "      <th>id</th>\n",
       "      <th>tweet</th>\n",
       "      <th>tweet_lemma</th>\n",
       "    </tr>\n",
       "  </thead>\n",
       "  <tbody>\n",
       "    <tr>\n",
       "      <th>0</th>\n",
       "      <td>15923</td>\n",
       "      <td>[whoisq, wherestheserver, dumpnike, declasfisa...</td>\n",
       "      <td>[whoisq, wherestheserver, dumpnike, declasfisa...</td>\n",
       "    </tr>\n",
       "    <tr>\n",
       "      <th>1</th>\n",
       "      <td>60133</td>\n",
       "      <td>[nopasaran, unity, demo, oppose, farright, lon...</td>\n",
       "      <td>[nopasaran, unity, demo, oppose, farright, lon...</td>\n",
       "    </tr>\n",
       "    <tr>\n",
       "      <th>2</th>\n",
       "      <td>83681</td>\n",
       "      <td>[fuck, time]</td>\n",
       "      <td>[fuck, time]</td>\n",
       "    </tr>\n",
       "    <tr>\n",
       "      <th>3</th>\n",
       "      <td>65507</td>\n",
       "      <td>[user, get, feeling, kissing, user, behind, hu...</td>\n",
       "      <td>[user, get, feeling, kissing, user, behind, hu...</td>\n",
       "    </tr>\n",
       "    <tr>\n",
       "      <th>4</th>\n",
       "      <td>34263</td>\n",
       "      <td>[stopkavanaugh, liar, like, rest, gop, url]</td>\n",
       "      <td>[stopkavanaugh, liar, like, rest, gop, url]</td>\n",
       "    </tr>\n",
       "  </tbody>\n",
       "</table>\n",
       "</div>"
      ],
      "text/plain": [
       "      id                                              tweet  \\\n",
       "0  15923  [whoisq, wherestheserver, dumpnike, declasfisa...   \n",
       "1  60133  [nopasaran, unity, demo, oppose, farright, lon...   \n",
       "2  83681                                       [fuck, time]   \n",
       "3  65507  [user, get, feeling, kissing, user, behind, hu...   \n",
       "4  34263        [stopkavanaugh, liar, like, rest, gop, url]   \n",
       "\n",
       "                                         tweet_lemma  \n",
       "0  [whoisq, wherestheserver, dumpnike, declasfisa...  \n",
       "1  [nopasaran, unity, demo, oppose, farright, lon...  \n",
       "2                                       [fuck, time]  \n",
       "3  [user, get, feeling, kissing, user, behind, hu...  \n",
       "4        [stopkavanaugh, liar, like, rest, gop, url]  "
      ]
     },
     "execution_count": 69,
     "metadata": {
      "tags": []
     },
     "output_type": "execute_result"
    }
   ],
   "source": [
    "# Pre-processing\n",
    "df_test_c = preprocessing_df(df_sub_c, 'tweet')\n",
    "\n",
    "# Lemmatisation\n",
    "df_test_c = lemmatisation(df_test_c, 'tweet', False)\n",
    "\n",
    "df_test_c.head()"
   ]
  },
  {
   "cell_type": "code",
   "execution_count": 70,
   "metadata": {
    "colab": {
     "base_uri": "https://localhost:8080/",
     "height": 51
    },
    "colab_type": "code",
    "id": "9Nf735vgBwdb",
    "outputId": "74f63983-b4ab-4f24-8e4f-103543ad52fd"
   },
   "outputs": [
    {
     "name": "stdout",
     "output_type": "stream",
     "text": [
      "0\n",
      "torch.Size([213, 79])\n"
     ]
    }
   ],
   "source": [
    "test_c_input = get_model_inputs_test(df_test_c, word2idx, 'tweet_lemma', max_len_tweet)\n",
    "print(test_c_input.shape)"
   ]
  },
  {
   "cell_type": "code",
   "execution_count": 71,
   "metadata": {
    "colab": {
     "base_uri": "https://localhost:8080/",
     "height": 173
    },
    "colab_type": "code",
    "id": "Rde3746uCAgx",
    "outputId": "d6e68659-73ae-4a89-ea5e-d5f99f9b88e1"
   },
   "outputs": [
    {
     "data": {
      "text/html": [
       "<div>\n",
       "<style scoped>\n",
       "    .dataframe tbody tr th:only-of-type {\n",
       "        vertical-align: middle;\n",
       "    }\n",
       "\n",
       "    .dataframe tbody tr th {\n",
       "        vertical-align: top;\n",
       "    }\n",
       "\n",
       "    .dataframe thead th {\n",
       "        text-align: right;\n",
       "    }\n",
       "</style>\n",
       "<table border=\"1\" class=\"dataframe\">\n",
       "  <thead>\n",
       "    <tr style=\"text-align: right;\">\n",
       "      <th></th>\n",
       "      <th>class</th>\n",
       "    </tr>\n",
       "  </thead>\n",
       "  <tbody>\n",
       "    <tr>\n",
       "      <th>count</th>\n",
       "      <td>213</td>\n",
       "    </tr>\n",
       "    <tr>\n",
       "      <th>unique</th>\n",
       "      <td>3</td>\n",
       "    </tr>\n",
       "    <tr>\n",
       "      <th>top</th>\n",
       "      <td>IND</td>\n",
       "    </tr>\n",
       "    <tr>\n",
       "      <th>freq</th>\n",
       "      <td>130</td>\n",
       "    </tr>\n",
       "  </tbody>\n",
       "</table>\n",
       "</div>"
      ],
      "text/plain": [
       "       class\n",
       "count    213\n",
       "unique     3\n",
       "top      IND\n",
       "freq     130"
      ]
     },
     "execution_count": 71,
     "metadata": {
      "tags": []
     },
     "output_type": "execute_result"
    }
   ],
   "source": [
    "with torch.no_grad():\n",
    "    predictions_task_c = model_c(test_c_input).squeeze(1)\n",
    "\n",
    "torch.manual_seed(24)\n",
    "y = torch.round(torch.sigmoid(predictions_task_c)).argmax(dim = 1).detach().numpy().astype(int)\n",
    "y_pred = pd.DataFrame(y, columns = ['pred'])\n",
    "\n",
    "\n",
    "y_pred['class'] = 'OTH'\n",
    "y_pred.loc[y_pred['pred'] == 0, 'class'] = 'GRP'\n",
    "y_pred.loc[y_pred['pred'] == 1, 'class'] = 'IND'\n",
    "\n",
    "y_pred.describe(include = ['O'])"
   ]
  },
  {
   "cell_type": "markdown",
   "metadata": {
    "colab_type": "text",
    "id": "mWYuWt8AT1au"
   },
   "source": [
    "##  Export the predictions in the required format for submission"
   ]
  },
  {
   "cell_type": "code",
   "execution_count": 0,
   "metadata": {
    "colab": {},
    "colab_type": "code",
    "id": "S4u8WuM0CAeL"
   },
   "outputs": [],
   "source": [
    "subtask_c = submission(df_test_c, y_pred)\n",
    "subtask_c.head()\n",
    "subtask_c.to_csv(\"result_subtask_c.csv\", index = False, header = False)"
   ]
  },
  {
   "cell_type": "code",
   "execution_count": 0,
   "metadata": {
    "colab": {},
    "colab_type": "code",
    "id": "qX0C93Iyy5TF"
   },
   "outputs": [],
   "source": [
    "files.download('result_subtask_c.csv')"
   ]
  }
 ],
 "metadata": {
  "accelerator": "GPU",
  "colab": {
   "collapsed_sections": [],
   "name": "Coursework.ipynb",
   "provenance": [],
   "toc_visible": true,
   "version": "0.3.2"
  },
  "kernelspec": {
   "display_name": "Python 3",
   "language": "python",
   "name": "python3"
  },
  "language_info": {
   "codemirror_mode": {
    "name": "ipython",
    "version": 3
   },
   "file_extension": ".py",
   "mimetype": "text/x-python",
   "name": "python",
   "nbconvert_exporter": "python",
   "pygments_lexer": "ipython3",
   "version": "3.6.8"
  }
 },
 "nbformat": 4,
 "nbformat_minor": 1
}
